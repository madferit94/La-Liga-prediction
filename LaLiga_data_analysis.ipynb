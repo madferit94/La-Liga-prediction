{
 "cells": [
  {
   "cell_type": "markdown",
   "metadata": {},
   "source": [
    "## Hyphotesis ##\n",
    "- \" Given the current state of the table and psat seasons, what's the realistic probability that each team could still win? \"\n",
    "\n",
    "1. Who is most likely to win 2025-2026 LaLiga this year based on previous 10 years\n",
    "2. Who are the 2 teams that will most likely be relegated\n",
    "3. Who is the team that will most likely go to conference leagus (7th position)"
   ]
  },
  {
   "cell_type": "code",
   "execution_count": 1,
   "metadata": {},
   "outputs": [
    {
     "name": "stdout",
     "output_type": "stream",
     "text": [
      "(220, 20)\n"
     ]
    },
    {
     "data": {
      "text/html": [
       "<div>\n",
       "<style scoped>\n",
       "    .dataframe tbody tr th:only-of-type {\n",
       "        vertical-align: middle;\n",
       "    }\n",
       "\n",
       "    .dataframe tbody tr th {\n",
       "        vertical-align: top;\n",
       "    }\n",
       "\n",
       "    .dataframe thead th {\n",
       "        text-align: right;\n",
       "    }\n",
       "</style>\n",
       "<table border=\"1\" class=\"dataframe\">\n",
       "  <thead>\n",
       "    <tr style=\"text-align: right;\">\n",
       "      <th></th>\n",
       "      <th>rk</th>\n",
       "      <th>squad</th>\n",
       "      <th>mp</th>\n",
       "      <th>w</th>\n",
       "      <th>d</th>\n",
       "      <th>l</th>\n",
       "      <th>gf</th>\n",
       "      <th>ga</th>\n",
       "      <th>gd</th>\n",
       "      <th>pts</th>\n",
       "      <th>pts/mp</th>\n",
       "      <th>attendance</th>\n",
       "      <th>top_team_scorer</th>\n",
       "      <th>goalkeeper</th>\n",
       "      <th>notes</th>\n",
       "      <th>season</th>\n",
       "      <th>xg</th>\n",
       "      <th>xga</th>\n",
       "      <th>xgd</th>\n",
       "      <th>xgd/90</th>\n",
       "    </tr>\n",
       "  </thead>\n",
       "  <tbody>\n",
       "    <tr>\n",
       "      <th>200</th>\n",
       "      <td>1</td>\n",
       "      <td>Barcelona</td>\n",
       "      <td>38</td>\n",
       "      <td>28</td>\n",
       "      <td>4</td>\n",
       "      <td>6</td>\n",
       "      <td>102</td>\n",
       "      <td>39</td>\n",
       "      <td>63</td>\n",
       "      <td>88</td>\n",
       "      <td>2.32</td>\n",
       "      <td>45953.0</td>\n",
       "      <td>Robert Lewandowski - 27</td>\n",
       "      <td>Iñaki Peña</td>\n",
       "      <td>→ Champions League via league finish</td>\n",
       "      <td>2024</td>\n",
       "      <td>91.5</td>\n",
       "      <td>41.9</td>\n",
       "      <td>49.5</td>\n",
       "      <td>1.30</td>\n",
       "    </tr>\n",
       "    <tr>\n",
       "      <th>201</th>\n",
       "      <td>2</td>\n",
       "      <td>Real Madrid</td>\n",
       "      <td>38</td>\n",
       "      <td>26</td>\n",
       "      <td>6</td>\n",
       "      <td>6</td>\n",
       "      <td>78</td>\n",
       "      <td>38</td>\n",
       "      <td>40</td>\n",
       "      <td>84</td>\n",
       "      <td>2.21</td>\n",
       "      <td>69807.0</td>\n",
       "      <td>Kylian Mbappé - 31</td>\n",
       "      <td>Thibaut Courtois</td>\n",
       "      <td>→ Champions League via league finish</td>\n",
       "      <td>2024</td>\n",
       "      <td>75.3</td>\n",
       "      <td>42.8</td>\n",
       "      <td>32.5</td>\n",
       "      <td>0.86</td>\n",
       "    </tr>\n",
       "    <tr>\n",
       "      <th>202</th>\n",
       "      <td>3</td>\n",
       "      <td>Atlético Madrid</td>\n",
       "      <td>38</td>\n",
       "      <td>22</td>\n",
       "      <td>10</td>\n",
       "      <td>6</td>\n",
       "      <td>68</td>\n",
       "      <td>30</td>\n",
       "      <td>38</td>\n",
       "      <td>76</td>\n",
       "      <td>2.00</td>\n",
       "      <td>60883.0</td>\n",
       "      <td>Alexander Sørloth - 20</td>\n",
       "      <td>Jan Oblak</td>\n",
       "      <td>→ Champions League via league finish</td>\n",
       "      <td>2024</td>\n",
       "      <td>64.6</td>\n",
       "      <td>33.4</td>\n",
       "      <td>31.2</td>\n",
       "      <td>0.82</td>\n",
       "    </tr>\n",
       "    <tr>\n",
       "      <th>203</th>\n",
       "      <td>4</td>\n",
       "      <td>Athletic Club</td>\n",
       "      <td>38</td>\n",
       "      <td>19</td>\n",
       "      <td>13</td>\n",
       "      <td>6</td>\n",
       "      <td>54</td>\n",
       "      <td>29</td>\n",
       "      <td>25</td>\n",
       "      <td>70</td>\n",
       "      <td>1.84</td>\n",
       "      <td>48420.0</td>\n",
       "      <td>Oihan Sancet - 15</td>\n",
       "      <td>Unai Simón</td>\n",
       "      <td>→ Champions League via league finish</td>\n",
       "      <td>2024</td>\n",
       "      <td>53.0</td>\n",
       "      <td>37.8</td>\n",
       "      <td>15.2</td>\n",
       "      <td>0.40</td>\n",
       "    </tr>\n",
       "    <tr>\n",
       "      <th>204</th>\n",
       "      <td>5</td>\n",
       "      <td>Villarreal</td>\n",
       "      <td>38</td>\n",
       "      <td>20</td>\n",
       "      <td>10</td>\n",
       "      <td>8</td>\n",
       "      <td>71</td>\n",
       "      <td>51</td>\n",
       "      <td>20</td>\n",
       "      <td>70</td>\n",
       "      <td>1.84</td>\n",
       "      <td>18266.0</td>\n",
       "      <td>Ayoze Pérez - 19</td>\n",
       "      <td>Diego Conde</td>\n",
       "      <td>→ Champions League via league finish</td>\n",
       "      <td>2024</td>\n",
       "      <td>64.8</td>\n",
       "      <td>44.4</td>\n",
       "      <td>20.4</td>\n",
       "      <td>0.54</td>\n",
       "    </tr>\n",
       "    <tr>\n",
       "      <th>205</th>\n",
       "      <td>6</td>\n",
       "      <td>Betis</td>\n",
       "      <td>38</td>\n",
       "      <td>16</td>\n",
       "      <td>12</td>\n",
       "      <td>10</td>\n",
       "      <td>57</td>\n",
       "      <td>50</td>\n",
       "      <td>7</td>\n",
       "      <td>60</td>\n",
       "      <td>1.58</td>\n",
       "      <td>51542.0</td>\n",
       "      <td>Isco - 9</td>\n",
       "      <td>Adrián</td>\n",
       "      <td>→ Europa League via league finish</td>\n",
       "      <td>2024</td>\n",
       "      <td>54.7</td>\n",
       "      <td>50.6</td>\n",
       "      <td>4.1</td>\n",
       "      <td>0.11</td>\n",
       "    </tr>\n",
       "    <tr>\n",
       "      <th>206</th>\n",
       "      <td>7</td>\n",
       "      <td>Celta Vigo</td>\n",
       "      <td>38</td>\n",
       "      <td>16</td>\n",
       "      <td>7</td>\n",
       "      <td>15</td>\n",
       "      <td>59</td>\n",
       "      <td>57</td>\n",
       "      <td>2</td>\n",
       "      <td>55</td>\n",
       "      <td>1.45</td>\n",
       "      <td>21504.0</td>\n",
       "      <td>Borja Iglesias - 11</td>\n",
       "      <td>Vicente Guaita</td>\n",
       "      <td>→ Europa League via league finish</td>\n",
       "      <td>2024</td>\n",
       "      <td>54.2</td>\n",
       "      <td>43.4</td>\n",
       "      <td>10.9</td>\n",
       "      <td>0.29</td>\n",
       "    </tr>\n",
       "    <tr>\n",
       "      <th>207</th>\n",
       "      <td>8</td>\n",
       "      <td>Rayo Vallecano</td>\n",
       "      <td>38</td>\n",
       "      <td>13</td>\n",
       "      <td>13</td>\n",
       "      <td>12</td>\n",
       "      <td>41</td>\n",
       "      <td>45</td>\n",
       "      <td>-4</td>\n",
       "      <td>52</td>\n",
       "      <td>1.37</td>\n",
       "      <td>12908.0</td>\n",
       "      <td>Jorge de Frutos - 6</td>\n",
       "      <td>Augusto Batalla</td>\n",
       "      <td>→ Conference League via league finish</td>\n",
       "      <td>2024</td>\n",
       "      <td>45.4</td>\n",
       "      <td>49.0</td>\n",
       "      <td>-3.5</td>\n",
       "      <td>-0.09</td>\n",
       "    </tr>\n",
       "    <tr>\n",
       "      <th>208</th>\n",
       "      <td>9</td>\n",
       "      <td>Osasuna</td>\n",
       "      <td>38</td>\n",
       "      <td>12</td>\n",
       "      <td>16</td>\n",
       "      <td>10</td>\n",
       "      <td>48</td>\n",
       "      <td>52</td>\n",
       "      <td>-4</td>\n",
       "      <td>52</td>\n",
       "      <td>1.37</td>\n",
       "      <td>20476.0</td>\n",
       "      <td>Ante Budimir - 21</td>\n",
       "      <td>Sergio Herrera</td>\n",
       "      <td>NaN</td>\n",
       "      <td>2024</td>\n",
       "      <td>44.0</td>\n",
       "      <td>53.7</td>\n",
       "      <td>-9.7</td>\n",
       "      <td>-0.25</td>\n",
       "    </tr>\n",
       "    <tr>\n",
       "      <th>209</th>\n",
       "      <td>10</td>\n",
       "      <td>Mallorca</td>\n",
       "      <td>38</td>\n",
       "      <td>13</td>\n",
       "      <td>9</td>\n",
       "      <td>16</td>\n",
       "      <td>35</td>\n",
       "      <td>44</td>\n",
       "      <td>-9</td>\n",
       "      <td>48</td>\n",
       "      <td>1.26</td>\n",
       "      <td>18502.0</td>\n",
       "      <td>Cyle Larin, Vedat Muriqi - 7</td>\n",
       "      <td>Dominik Greif</td>\n",
       "      <td>NaN</td>\n",
       "      <td>2024</td>\n",
       "      <td>38.8</td>\n",
       "      <td>46.8</td>\n",
       "      <td>-8.1</td>\n",
       "      <td>-0.21</td>\n",
       "    </tr>\n",
       "    <tr>\n",
       "      <th>210</th>\n",
       "      <td>11</td>\n",
       "      <td>Real Sociedad</td>\n",
       "      <td>38</td>\n",
       "      <td>13</td>\n",
       "      <td>7</td>\n",
       "      <td>18</td>\n",
       "      <td>35</td>\n",
       "      <td>46</td>\n",
       "      <td>-11</td>\n",
       "      <td>46</td>\n",
       "      <td>1.21</td>\n",
       "      <td>29877.0</td>\n",
       "      <td>Mikel Oyarzabal - 9</td>\n",
       "      <td>Álex Remiro</td>\n",
       "      <td>NaN</td>\n",
       "      <td>2024</td>\n",
       "      <td>42.5</td>\n",
       "      <td>43.9</td>\n",
       "      <td>-1.5</td>\n",
       "      <td>-0.04</td>\n",
       "    </tr>\n",
       "    <tr>\n",
       "      <th>211</th>\n",
       "      <td>12</td>\n",
       "      <td>Valencia</td>\n",
       "      <td>38</td>\n",
       "      <td>11</td>\n",
       "      <td>13</td>\n",
       "      <td>14</td>\n",
       "      <td>44</td>\n",
       "      <td>54</td>\n",
       "      <td>-10</td>\n",
       "      <td>46</td>\n",
       "      <td>1.21</td>\n",
       "      <td>43042.0</td>\n",
       "      <td>Hugo Duro - 11</td>\n",
       "      <td>Giorgi Mamardashvili</td>\n",
       "      <td>NaN</td>\n",
       "      <td>2024</td>\n",
       "      <td>43.3</td>\n",
       "      <td>51.9</td>\n",
       "      <td>-8.6</td>\n",
       "      <td>-0.23</td>\n",
       "    </tr>\n",
       "    <tr>\n",
       "      <th>212</th>\n",
       "      <td>13</td>\n",
       "      <td>Getafe</td>\n",
       "      <td>38</td>\n",
       "      <td>11</td>\n",
       "      <td>9</td>\n",
       "      <td>18</td>\n",
       "      <td>34</td>\n",
       "      <td>39</td>\n",
       "      <td>-5</td>\n",
       "      <td>42</td>\n",
       "      <td>1.11</td>\n",
       "      <td>11469.0</td>\n",
       "      <td>Mauro Arambarri - 10</td>\n",
       "      <td>David Soria</td>\n",
       "      <td>NaN</td>\n",
       "      <td>2024</td>\n",
       "      <td>36.8</td>\n",
       "      <td>46.2</td>\n",
       "      <td>-9.4</td>\n",
       "      <td>-0.25</td>\n",
       "    </tr>\n",
       "    <tr>\n",
       "      <th>213</th>\n",
       "      <td>14</td>\n",
       "      <td>Espanyol</td>\n",
       "      <td>38</td>\n",
       "      <td>11</td>\n",
       "      <td>9</td>\n",
       "      <td>18</td>\n",
       "      <td>40</td>\n",
       "      <td>51</td>\n",
       "      <td>-11</td>\n",
       "      <td>42</td>\n",
       "      <td>1.11</td>\n",
       "      <td>25640.0</td>\n",
       "      <td>Javi Puado - 12</td>\n",
       "      <td>Joan García</td>\n",
       "      <td>NaN</td>\n",
       "      <td>2024</td>\n",
       "      <td>34.4</td>\n",
       "      <td>53.8</td>\n",
       "      <td>-19.4</td>\n",
       "      <td>-0.51</td>\n",
       "    </tr>\n",
       "    <tr>\n",
       "      <th>214</th>\n",
       "      <td>15</td>\n",
       "      <td>Alavés</td>\n",
       "      <td>38</td>\n",
       "      <td>10</td>\n",
       "      <td>12</td>\n",
       "      <td>16</td>\n",
       "      <td>38</td>\n",
       "      <td>48</td>\n",
       "      <td>-10</td>\n",
       "      <td>42</td>\n",
       "      <td>1.11</td>\n",
       "      <td>17318.0</td>\n",
       "      <td>Kiké - 13</td>\n",
       "      <td>Antonio Sivera</td>\n",
       "      <td>NaN</td>\n",
       "      <td>2024</td>\n",
       "      <td>42.8</td>\n",
       "      <td>47.0</td>\n",
       "      <td>-4.2</td>\n",
       "      <td>-0.11</td>\n",
       "    </tr>\n",
       "    <tr>\n",
       "      <th>215</th>\n",
       "      <td>16</td>\n",
       "      <td>Girona</td>\n",
       "      <td>38</td>\n",
       "      <td>11</td>\n",
       "      <td>8</td>\n",
       "      <td>19</td>\n",
       "      <td>44</td>\n",
       "      <td>60</td>\n",
       "      <td>-16</td>\n",
       "      <td>41</td>\n",
       "      <td>1.08</td>\n",
       "      <td>11657.0</td>\n",
       "      <td>Cristhian Stuani - 11</td>\n",
       "      <td>Paulo Gazzaniga</td>\n",
       "      <td>NaN</td>\n",
       "      <td>2024</td>\n",
       "      <td>42.5</td>\n",
       "      <td>50.4</td>\n",
       "      <td>-8.0</td>\n",
       "      <td>-0.21</td>\n",
       "    </tr>\n",
       "    <tr>\n",
       "      <th>216</th>\n",
       "      <td>17</td>\n",
       "      <td>Sevilla</td>\n",
       "      <td>38</td>\n",
       "      <td>10</td>\n",
       "      <td>11</td>\n",
       "      <td>17</td>\n",
       "      <td>42</td>\n",
       "      <td>55</td>\n",
       "      <td>-13</td>\n",
       "      <td>41</td>\n",
       "      <td>1.08</td>\n",
       "      <td>35619.0</td>\n",
       "      <td>Dodi Lukebakio - 11</td>\n",
       "      <td>Ørjan Nyland</td>\n",
       "      <td>NaN</td>\n",
       "      <td>2024</td>\n",
       "      <td>42.7</td>\n",
       "      <td>47.4</td>\n",
       "      <td>-4.7</td>\n",
       "      <td>-0.12</td>\n",
       "    </tr>\n",
       "    <tr>\n",
       "      <th>217</th>\n",
       "      <td>18</td>\n",
       "      <td>Leganés</td>\n",
       "      <td>38</td>\n",
       "      <td>9</td>\n",
       "      <td>13</td>\n",
       "      <td>16</td>\n",
       "      <td>39</td>\n",
       "      <td>56</td>\n",
       "      <td>-17</td>\n",
       "      <td>40</td>\n",
       "      <td>1.05</td>\n",
       "      <td>11135.0</td>\n",
       "      <td>Dani Raba - 8</td>\n",
       "      <td>Marko Dmitrović</td>\n",
       "      <td>Relegated</td>\n",
       "      <td>2024</td>\n",
       "      <td>36.0</td>\n",
       "      <td>59.4</td>\n",
       "      <td>-23.4</td>\n",
       "      <td>-0.62</td>\n",
       "    </tr>\n",
       "    <tr>\n",
       "      <th>218</th>\n",
       "      <td>19</td>\n",
       "      <td>Las Palmas</td>\n",
       "      <td>38</td>\n",
       "      <td>8</td>\n",
       "      <td>8</td>\n",
       "      <td>22</td>\n",
       "      <td>40</td>\n",
       "      <td>61</td>\n",
       "      <td>-21</td>\n",
       "      <td>32</td>\n",
       "      <td>0.84</td>\n",
       "      <td>23010.0</td>\n",
       "      <td>Fábio Silva - 10</td>\n",
       "      <td>Jasper Cillessen</td>\n",
       "      <td>Relegated</td>\n",
       "      <td>2024</td>\n",
       "      <td>36.3</td>\n",
       "      <td>66.8</td>\n",
       "      <td>-30.5</td>\n",
       "      <td>-0.80</td>\n",
       "    </tr>\n",
       "    <tr>\n",
       "      <th>219</th>\n",
       "      <td>20</td>\n",
       "      <td>Valladolid</td>\n",
       "      <td>38</td>\n",
       "      <td>4</td>\n",
       "      <td>4</td>\n",
       "      <td>30</td>\n",
       "      <td>26</td>\n",
       "      <td>90</td>\n",
       "      <td>-64</td>\n",
       "      <td>16</td>\n",
       "      <td>0.42</td>\n",
       "      <td>19831.0</td>\n",
       "      <td>Mamadou Sylla - 5</td>\n",
       "      <td>Karl Jakob Hein</td>\n",
       "      <td>Relegated</td>\n",
       "      <td>2024</td>\n",
       "      <td>34.6</td>\n",
       "      <td>67.6</td>\n",
       "      <td>-33.0</td>\n",
       "      <td>-0.87</td>\n",
       "    </tr>\n",
       "  </tbody>\n",
       "</table>\n",
       "</div>"
      ],
      "text/plain": [
       "     rk            squad  mp   w   d   l   gf  ga  gd  pts  pts/mp  \\\n",
       "200   1        Barcelona  38  28   4   6  102  39  63   88    2.32   \n",
       "201   2      Real Madrid  38  26   6   6   78  38  40   84    2.21   \n",
       "202   3  Atlético Madrid  38  22  10   6   68  30  38   76    2.00   \n",
       "203   4    Athletic Club  38  19  13   6   54  29  25   70    1.84   \n",
       "204   5       Villarreal  38  20  10   8   71  51  20   70    1.84   \n",
       "205   6            Betis  38  16  12  10   57  50   7   60    1.58   \n",
       "206   7       Celta Vigo  38  16   7  15   59  57   2   55    1.45   \n",
       "207   8   Rayo Vallecano  38  13  13  12   41  45  -4   52    1.37   \n",
       "208   9          Osasuna  38  12  16  10   48  52  -4   52    1.37   \n",
       "209  10         Mallorca  38  13   9  16   35  44  -9   48    1.26   \n",
       "210  11    Real Sociedad  38  13   7  18   35  46 -11   46    1.21   \n",
       "211  12         Valencia  38  11  13  14   44  54 -10   46    1.21   \n",
       "212  13           Getafe  38  11   9  18   34  39  -5   42    1.11   \n",
       "213  14         Espanyol  38  11   9  18   40  51 -11   42    1.11   \n",
       "214  15           Alavés  38  10  12  16   38  48 -10   42    1.11   \n",
       "215  16           Girona  38  11   8  19   44  60 -16   41    1.08   \n",
       "216  17          Sevilla  38  10  11  17   42  55 -13   41    1.08   \n",
       "217  18          Leganés  38   9  13  16   39  56 -17   40    1.05   \n",
       "218  19       Las Palmas  38   8   8  22   40  61 -21   32    0.84   \n",
       "219  20       Valladolid  38   4   4  30   26  90 -64   16    0.42   \n",
       "\n",
       "     attendance               top_team_scorer            goalkeeper  \\\n",
       "200     45953.0       Robert Lewandowski - 27            Iñaki Peña   \n",
       "201     69807.0            Kylian Mbappé - 31      Thibaut Courtois   \n",
       "202     60883.0        Alexander Sørloth - 20             Jan Oblak   \n",
       "203     48420.0             Oihan Sancet - 15            Unai Simón   \n",
       "204     18266.0              Ayoze Pérez - 19           Diego Conde   \n",
       "205     51542.0                      Isco - 9                Adrián   \n",
       "206     21504.0           Borja Iglesias - 11        Vicente Guaita   \n",
       "207     12908.0           Jorge de Frutos - 6       Augusto Batalla   \n",
       "208     20476.0             Ante Budimir - 21        Sergio Herrera   \n",
       "209     18502.0  Cyle Larin, Vedat Muriqi - 7         Dominik Greif   \n",
       "210     29877.0           Mikel Oyarzabal - 9           Álex Remiro   \n",
       "211     43042.0                Hugo Duro - 11  Giorgi Mamardashvili   \n",
       "212     11469.0          Mauro Arambarri - 10           David Soria   \n",
       "213     25640.0               Javi Puado - 12           Joan García   \n",
       "214     17318.0                     Kiké - 13        Antonio Sivera   \n",
       "215     11657.0         Cristhian Stuani - 11       Paulo Gazzaniga   \n",
       "216     35619.0           Dodi Lukebakio - 11          Ørjan Nyland   \n",
       "217     11135.0                 Dani Raba - 8       Marko Dmitrović   \n",
       "218     23010.0              Fábio Silva - 10      Jasper Cillessen   \n",
       "219     19831.0             Mamadou Sylla - 5       Karl Jakob Hein   \n",
       "\n",
       "                                     notes  season    xg   xga   xgd  xgd/90  \n",
       "200   → Champions League via league finish    2024  91.5  41.9  49.5    1.30  \n",
       "201   → Champions League via league finish    2024  75.3  42.8  32.5    0.86  \n",
       "202   → Champions League via league finish    2024  64.6  33.4  31.2    0.82  \n",
       "203   → Champions League via league finish    2024  53.0  37.8  15.2    0.40  \n",
       "204   → Champions League via league finish    2024  64.8  44.4  20.4    0.54  \n",
       "205      → Europa League via league finish    2024  54.7  50.6   4.1    0.11  \n",
       "206      → Europa League via league finish    2024  54.2  43.4  10.9    0.29  \n",
       "207  → Conference League via league finish    2024  45.4  49.0  -3.5   -0.09  \n",
       "208                                    NaN    2024  44.0  53.7  -9.7   -0.25  \n",
       "209                                    NaN    2024  38.8  46.8  -8.1   -0.21  \n",
       "210                                    NaN    2024  42.5  43.9  -1.5   -0.04  \n",
       "211                                    NaN    2024  43.3  51.9  -8.6   -0.23  \n",
       "212                                    NaN    2024  36.8  46.2  -9.4   -0.25  \n",
       "213                                    NaN    2024  34.4  53.8 -19.4   -0.51  \n",
       "214                                    NaN    2024  42.8  47.0  -4.2   -0.11  \n",
       "215                                    NaN    2024  42.5  50.4  -8.0   -0.21  \n",
       "216                                    NaN    2024  42.7  47.4  -4.7   -0.12  \n",
       "217                              Relegated    2024  36.0  59.4 -23.4   -0.62  \n",
       "218                              Relegated    2024  36.3  66.8 -30.5   -0.80  \n",
       "219                              Relegated    2024  34.6  67.6 -33.0   -0.87  "
      ]
     },
     "execution_count": 1,
     "metadata": {},
     "output_type": "execute_result"
    }
   ],
   "source": [
    "import pandas as pd\n",
    "\n",
    "full_data = pd.read_csv(\"la_liga_data_2014_2025.csv\")\n",
    "print(full_data.shape)\n",
    "full_data.tail(20)"
   ]
  },
  {
   "cell_type": "markdown",
   "metadata": {},
   "source": [
    "## Data Exploration"
   ]
  },
  {
   "cell_type": "code",
   "execution_count": 2,
   "metadata": {},
   "outputs": [
    {
     "data": {
      "text/plain": [
       "squad\n",
       "Barcelona          11\n",
       "Villarreal         11\n",
       "Real Madrid        11\n",
       "Celta Vigo         11\n",
       "Athletic Club      11\n",
       "Real Sociedad      11\n",
       "Sevilla            11\n",
       "Valencia           11\n",
       "Atlético Madrid    11\n",
       "Betis              10\n",
       "Getafe             10\n",
       "Espanyol            9\n",
       "Alavés              8\n",
       "Levante             7\n",
       "Rayo Vallecano      7\n",
       "Granada             7\n",
       "Eibar               7\n",
       "Osasuna             7\n",
       "Valladolid          5\n",
       "Girona              5\n",
       "Mallorca            5\n",
       "Las Palmas          5\n",
       "Leganés             5\n",
       "La Coruña           4\n",
       "Elche               4\n",
       "Málaga              4\n",
       "Cádiz               4\n",
       "Almería             3\n",
       "Sporting Gijón      2\n",
       "Huesca              2\n",
       "Córdoba             1\n",
       "Name: count, dtype: int64"
      ]
     },
     "execution_count": 2,
     "metadata": {},
     "output_type": "execute_result"
    }
   ],
   "source": [
    "# Nbumber of appearances for the past 12 seasons inculding the 2025-2026 season which is not yet complete\n",
    "# if belows 12 then the team was relegated at some point\n",
    "full_data['squad'].value_counts()"
   ]
  },
  {
   "cell_type": "code",
   "execution_count": 3,
   "metadata": {},
   "outputs": [
    {
     "data": {
      "text/plain": [
       "rk  squad          \n",
       "1   Barcelona          6\n",
       "    Real Madrid        4\n",
       "    Atlético Madrid    1\n",
       "2   Real Madrid        5\n",
       "    Barcelona          4\n",
       "    Atlético Madrid    2\n",
       "3   Atlético Madrid    7\n",
       "    Real Madrid        2\n",
       "    Barcelona          1\n",
       "    Girona             1\n",
       "Name: count, dtype: int64"
      ]
     },
     "execution_count": 3,
     "metadata": {},
     "output_type": "execute_result"
    }
   ],
   "source": [
    "# Top3 ranking count per team\n",
    "full_data['squad'].groupby(full_data['rk']).value_counts().head(10)"
   ]
  },
  {
   "cell_type": "code",
   "execution_count": 4,
   "metadata": {},
   "outputs": [
    {
     "data": {
      "application/vnd.plotly.v1+json": {
       "config": {
        "plotlyServerURL": "https://plot.ly"
       },
       "data": [
        {
         "alignmentgroup": "True",
         "hovertemplate": "Team=%{x}<br>Finish Count=%{y}<br>Rank=%{marker.color}<extra></extra>",
         "legendgroup": "",
         "marker": {
          "color": {
           "bdata": "AQEBAgICAwMDAw==",
           "dtype": "i1"
          },
          "coloraxis": "coloraxis",
          "pattern": {
           "shape": ""
          }
         },
         "name": "",
         "offsetgroup": "",
         "orientation": "v",
         "showlegend": false,
         "textposition": "auto",
         "type": "bar",
         "x": [
          "Barcelona",
          "Real Madrid",
          "Atlético Madrid",
          "Real Madrid",
          "Barcelona",
          "Atlético Madrid",
          "Atlético Madrid",
          "Real Madrid",
          "Barcelona",
          "Girona"
         ],
         "xaxis": "x",
         "y": {
          "bdata": "BgQBBQQCBwIBAQ==",
          "dtype": "i1"
         },
         "yaxis": "y"
        }
       ],
       "layout": {
        "barmode": "group",
        "coloraxis": {
         "colorbar": {
          "title": {
           "text": "Rank"
          }
         },
         "colorscale": [
          [
           0,
           "#0d0887"
          ],
          [
           0.1111111111111111,
           "#46039f"
          ],
          [
           0.2222222222222222,
           "#7201a8"
          ],
          [
           0.3333333333333333,
           "#9c179e"
          ],
          [
           0.4444444444444444,
           "#bd3786"
          ],
          [
           0.5555555555555556,
           "#d8576b"
          ],
          [
           0.6666666666666666,
           "#ed7953"
          ],
          [
           0.7777777777777778,
           "#fb9f3a"
          ],
          [
           0.8888888888888888,
           "#fdca26"
          ],
          [
           1,
           "#f0f921"
          ]
         ]
        },
        "legend": {
         "tracegroupgap": 0
        },
        "template": {
         "data": {
          "bar": [
           {
            "error_x": {
             "color": "#2a3f5f"
            },
            "error_y": {
             "color": "#2a3f5f"
            },
            "marker": {
             "line": {
              "color": "#E5ECF6",
              "width": 0.5
             },
             "pattern": {
              "fillmode": "overlay",
              "size": 10,
              "solidity": 0.2
             }
            },
            "type": "bar"
           }
          ],
          "barpolar": [
           {
            "marker": {
             "line": {
              "color": "#E5ECF6",
              "width": 0.5
             },
             "pattern": {
              "fillmode": "overlay",
              "size": 10,
              "solidity": 0.2
             }
            },
            "type": "barpolar"
           }
          ],
          "carpet": [
           {
            "aaxis": {
             "endlinecolor": "#2a3f5f",
             "gridcolor": "white",
             "linecolor": "white",
             "minorgridcolor": "white",
             "startlinecolor": "#2a3f5f"
            },
            "baxis": {
             "endlinecolor": "#2a3f5f",
             "gridcolor": "white",
             "linecolor": "white",
             "minorgridcolor": "white",
             "startlinecolor": "#2a3f5f"
            },
            "type": "carpet"
           }
          ],
          "choropleth": [
           {
            "colorbar": {
             "outlinewidth": 0,
             "ticks": ""
            },
            "type": "choropleth"
           }
          ],
          "contour": [
           {
            "colorbar": {
             "outlinewidth": 0,
             "ticks": ""
            },
            "colorscale": [
             [
              0,
              "#0d0887"
             ],
             [
              0.1111111111111111,
              "#46039f"
             ],
             [
              0.2222222222222222,
              "#7201a8"
             ],
             [
              0.3333333333333333,
              "#9c179e"
             ],
             [
              0.4444444444444444,
              "#bd3786"
             ],
             [
              0.5555555555555556,
              "#d8576b"
             ],
             [
              0.6666666666666666,
              "#ed7953"
             ],
             [
              0.7777777777777778,
              "#fb9f3a"
             ],
             [
              0.8888888888888888,
              "#fdca26"
             ],
             [
              1,
              "#f0f921"
             ]
            ],
            "type": "contour"
           }
          ],
          "contourcarpet": [
           {
            "colorbar": {
             "outlinewidth": 0,
             "ticks": ""
            },
            "type": "contourcarpet"
           }
          ],
          "heatmap": [
           {
            "colorbar": {
             "outlinewidth": 0,
             "ticks": ""
            },
            "colorscale": [
             [
              0,
              "#0d0887"
             ],
             [
              0.1111111111111111,
              "#46039f"
             ],
             [
              0.2222222222222222,
              "#7201a8"
             ],
             [
              0.3333333333333333,
              "#9c179e"
             ],
             [
              0.4444444444444444,
              "#bd3786"
             ],
             [
              0.5555555555555556,
              "#d8576b"
             ],
             [
              0.6666666666666666,
              "#ed7953"
             ],
             [
              0.7777777777777778,
              "#fb9f3a"
             ],
             [
              0.8888888888888888,
              "#fdca26"
             ],
             [
              1,
              "#f0f921"
             ]
            ],
            "type": "heatmap"
           }
          ],
          "histogram": [
           {
            "marker": {
             "pattern": {
              "fillmode": "overlay",
              "size": 10,
              "solidity": 0.2
             }
            },
            "type": "histogram"
           }
          ],
          "histogram2d": [
           {
            "colorbar": {
             "outlinewidth": 0,
             "ticks": ""
            },
            "colorscale": [
             [
              0,
              "#0d0887"
             ],
             [
              0.1111111111111111,
              "#46039f"
             ],
             [
              0.2222222222222222,
              "#7201a8"
             ],
             [
              0.3333333333333333,
              "#9c179e"
             ],
             [
              0.4444444444444444,
              "#bd3786"
             ],
             [
              0.5555555555555556,
              "#d8576b"
             ],
             [
              0.6666666666666666,
              "#ed7953"
             ],
             [
              0.7777777777777778,
              "#fb9f3a"
             ],
             [
              0.8888888888888888,
              "#fdca26"
             ],
             [
              1,
              "#f0f921"
             ]
            ],
            "type": "histogram2d"
           }
          ],
          "histogram2dcontour": [
           {
            "colorbar": {
             "outlinewidth": 0,
             "ticks": ""
            },
            "colorscale": [
             [
              0,
              "#0d0887"
             ],
             [
              0.1111111111111111,
              "#46039f"
             ],
             [
              0.2222222222222222,
              "#7201a8"
             ],
             [
              0.3333333333333333,
              "#9c179e"
             ],
             [
              0.4444444444444444,
              "#bd3786"
             ],
             [
              0.5555555555555556,
              "#d8576b"
             ],
             [
              0.6666666666666666,
              "#ed7953"
             ],
             [
              0.7777777777777778,
              "#fb9f3a"
             ],
             [
              0.8888888888888888,
              "#fdca26"
             ],
             [
              1,
              "#f0f921"
             ]
            ],
            "type": "histogram2dcontour"
           }
          ],
          "mesh3d": [
           {
            "colorbar": {
             "outlinewidth": 0,
             "ticks": ""
            },
            "type": "mesh3d"
           }
          ],
          "parcoords": [
           {
            "line": {
             "colorbar": {
              "outlinewidth": 0,
              "ticks": ""
             }
            },
            "type": "parcoords"
           }
          ],
          "pie": [
           {
            "automargin": true,
            "type": "pie"
           }
          ],
          "scatter": [
           {
            "fillpattern": {
             "fillmode": "overlay",
             "size": 10,
             "solidity": 0.2
            },
            "type": "scatter"
           }
          ],
          "scatter3d": [
           {
            "line": {
             "colorbar": {
              "outlinewidth": 0,
              "ticks": ""
             }
            },
            "marker": {
             "colorbar": {
              "outlinewidth": 0,
              "ticks": ""
             }
            },
            "type": "scatter3d"
           }
          ],
          "scattercarpet": [
           {
            "marker": {
             "colorbar": {
              "outlinewidth": 0,
              "ticks": ""
             }
            },
            "type": "scattercarpet"
           }
          ],
          "scattergeo": [
           {
            "marker": {
             "colorbar": {
              "outlinewidth": 0,
              "ticks": ""
             }
            },
            "type": "scattergeo"
           }
          ],
          "scattergl": [
           {
            "marker": {
             "colorbar": {
              "outlinewidth": 0,
              "ticks": ""
             }
            },
            "type": "scattergl"
           }
          ],
          "scattermap": [
           {
            "marker": {
             "colorbar": {
              "outlinewidth": 0,
              "ticks": ""
             }
            },
            "type": "scattermap"
           }
          ],
          "scattermapbox": [
           {
            "marker": {
             "colorbar": {
              "outlinewidth": 0,
              "ticks": ""
             }
            },
            "type": "scattermapbox"
           }
          ],
          "scatterpolar": [
           {
            "marker": {
             "colorbar": {
              "outlinewidth": 0,
              "ticks": ""
             }
            },
            "type": "scatterpolar"
           }
          ],
          "scatterpolargl": [
           {
            "marker": {
             "colorbar": {
              "outlinewidth": 0,
              "ticks": ""
             }
            },
            "type": "scatterpolargl"
           }
          ],
          "scatterternary": [
           {
            "marker": {
             "colorbar": {
              "outlinewidth": 0,
              "ticks": ""
             }
            },
            "type": "scatterternary"
           }
          ],
          "surface": [
           {
            "colorbar": {
             "outlinewidth": 0,
             "ticks": ""
            },
            "colorscale": [
             [
              0,
              "#0d0887"
             ],
             [
              0.1111111111111111,
              "#46039f"
             ],
             [
              0.2222222222222222,
              "#7201a8"
             ],
             [
              0.3333333333333333,
              "#9c179e"
             ],
             [
              0.4444444444444444,
              "#bd3786"
             ],
             [
              0.5555555555555556,
              "#d8576b"
             ],
             [
              0.6666666666666666,
              "#ed7953"
             ],
             [
              0.7777777777777778,
              "#fb9f3a"
             ],
             [
              0.8888888888888888,
              "#fdca26"
             ],
             [
              1,
              "#f0f921"
             ]
            ],
            "type": "surface"
           }
          ],
          "table": [
           {
            "cells": {
             "fill": {
              "color": "#EBF0F8"
             },
             "line": {
              "color": "white"
             }
            },
            "header": {
             "fill": {
              "color": "#C8D4E3"
             },
             "line": {
              "color": "white"
             }
            },
            "type": "table"
           }
          ]
         },
         "layout": {
          "annotationdefaults": {
           "arrowcolor": "#2a3f5f",
           "arrowhead": 0,
           "arrowwidth": 1
          },
          "autotypenumbers": "strict",
          "coloraxis": {
           "colorbar": {
            "outlinewidth": 0,
            "ticks": ""
           }
          },
          "colorscale": {
           "diverging": [
            [
             0,
             "#8e0152"
            ],
            [
             0.1,
             "#c51b7d"
            ],
            [
             0.2,
             "#de77ae"
            ],
            [
             0.3,
             "#f1b6da"
            ],
            [
             0.4,
             "#fde0ef"
            ],
            [
             0.5,
             "#f7f7f7"
            ],
            [
             0.6,
             "#e6f5d0"
            ],
            [
             0.7,
             "#b8e186"
            ],
            [
             0.8,
             "#7fbc41"
            ],
            [
             0.9,
             "#4d9221"
            ],
            [
             1,
             "#276419"
            ]
           ],
           "sequential": [
            [
             0,
             "#0d0887"
            ],
            [
             0.1111111111111111,
             "#46039f"
            ],
            [
             0.2222222222222222,
             "#7201a8"
            ],
            [
             0.3333333333333333,
             "#9c179e"
            ],
            [
             0.4444444444444444,
             "#bd3786"
            ],
            [
             0.5555555555555556,
             "#d8576b"
            ],
            [
             0.6666666666666666,
             "#ed7953"
            ],
            [
             0.7777777777777778,
             "#fb9f3a"
            ],
            [
             0.8888888888888888,
             "#fdca26"
            ],
            [
             1,
             "#f0f921"
            ]
           ],
           "sequentialminus": [
            [
             0,
             "#0d0887"
            ],
            [
             0.1111111111111111,
             "#46039f"
            ],
            [
             0.2222222222222222,
             "#7201a8"
            ],
            [
             0.3333333333333333,
             "#9c179e"
            ],
            [
             0.4444444444444444,
             "#bd3786"
            ],
            [
             0.5555555555555556,
             "#d8576b"
            ],
            [
             0.6666666666666666,
             "#ed7953"
            ],
            [
             0.7777777777777778,
             "#fb9f3a"
            ],
            [
             0.8888888888888888,
             "#fdca26"
            ],
            [
             1,
             "#f0f921"
            ]
           ]
          },
          "colorway": [
           "#636efa",
           "#EF553B",
           "#00cc96",
           "#ab63fa",
           "#FFA15A",
           "#19d3f3",
           "#FF6692",
           "#B6E880",
           "#FF97FF",
           "#FECB52"
          ],
          "font": {
           "color": "#2a3f5f"
          },
          "geo": {
           "bgcolor": "white",
           "lakecolor": "white",
           "landcolor": "#E5ECF6",
           "showlakes": true,
           "showland": true,
           "subunitcolor": "white"
          },
          "hoverlabel": {
           "align": "left"
          },
          "hovermode": "closest",
          "mapbox": {
           "style": "light"
          },
          "paper_bgcolor": "white",
          "plot_bgcolor": "#E5ECF6",
          "polar": {
           "angularaxis": {
            "gridcolor": "white",
            "linecolor": "white",
            "ticks": ""
           },
           "bgcolor": "#E5ECF6",
           "radialaxis": {
            "gridcolor": "white",
            "linecolor": "white",
            "ticks": ""
           }
          },
          "scene": {
           "xaxis": {
            "backgroundcolor": "#E5ECF6",
            "gridcolor": "white",
            "gridwidth": 2,
            "linecolor": "white",
            "showbackground": true,
            "ticks": "",
            "zerolinecolor": "white"
           },
           "yaxis": {
            "backgroundcolor": "#E5ECF6",
            "gridcolor": "white",
            "gridwidth": 2,
            "linecolor": "white",
            "showbackground": true,
            "ticks": "",
            "zerolinecolor": "white"
           },
           "zaxis": {
            "backgroundcolor": "#E5ECF6",
            "gridcolor": "white",
            "gridwidth": 2,
            "linecolor": "white",
            "showbackground": true,
            "ticks": "",
            "zerolinecolor": "white"
           }
          },
          "shapedefaults": {
           "line": {
            "color": "#2a3f5f"
           }
          },
          "ternary": {
           "aaxis": {
            "gridcolor": "white",
            "linecolor": "white",
            "ticks": ""
           },
           "baxis": {
            "gridcolor": "white",
            "linecolor": "white",
            "ticks": ""
           },
           "bgcolor": "#E5ECF6",
           "caxis": {
            "gridcolor": "white",
            "linecolor": "white",
            "ticks": ""
           }
          },
          "title": {
           "x": 0.05
          },
          "xaxis": {
           "automargin": true,
           "gridcolor": "white",
           "linecolor": "white",
           "ticks": "",
           "title": {
            "standoff": 15
           },
           "zerolinecolor": "white",
           "zerolinewidth": 2
          },
          "yaxis": {
           "automargin": true,
           "gridcolor": "white",
           "linecolor": "white",
           "ticks": "",
           "title": {
            "standoff": 15
           },
           "zerolinecolor": "white",
           "zerolinewidth": 2
          }
         }
        },
        "title": {
         "text": "Top 3 Finishes by the Team and Rank (Last 10 years)"
        },
        "xaxis": {
         "anchor": "y",
         "categoryorder": "total descending",
         "domain": [
          0,
          1
         ],
         "title": {
          "text": "Team"
         }
        },
        "yaxis": {
         "anchor": "x",
         "domain": [
          0,
          1
         ],
         "title": {
          "text": "Finish Count"
         }
        }
       }
      }
     },
     "metadata": {},
     "output_type": "display_data"
    }
   ],
   "source": [
    "import plotly.express as px \n",
    "\n",
    "# Get one top 3 ranks only\n",
    "ranking_counts = full_data['squad'].groupby(full_data['rk']).value_counts().reset_index(name='count')\n",
    "\n",
    "# Keep only top 3 ranks (optional if you're sure it's only top3)\n",
    "ranking_counts = ranking_counts[ranking_counts['rk'].isin([1, 2, 3])] ## 7, 8, 9\n",
    "\n",
    "# Plot\n",
    "fig = px.bar(ranking_counts, x='squad', y='count', color='rk',\n",
    "             barmode='group',\n",
    "             title='Top 3 Finishes by the Team and Rank (Last 10 years)',\n",
    "             labels={'squad': 'Team', 'count': 'Finish Count', 'rk': 'Rank'})\n",
    "\n",
    "fig.update_layout(xaxis={'categoryorder':'total descending'})\n",
    "fig.show()\n",
    "     "
   ]
  },
  {
   "cell_type": "code",
   "execution_count": 5,
   "metadata": {},
   "outputs": [
    {
     "data": {
      "text/html": [
       "<div>\n",
       "<style scoped>\n",
       "    .dataframe tbody tr th:only-of-type {\n",
       "        vertical-align: middle;\n",
       "    }\n",
       "\n",
       "    .dataframe tbody tr th {\n",
       "        vertical-align: top;\n",
       "    }\n",
       "\n",
       "    .dataframe thead th {\n",
       "        text-align: right;\n",
       "    }\n",
       "</style>\n",
       "<table border=\"1\" class=\"dataframe\">\n",
       "  <thead>\n",
       "    <tr style=\"text-align: right;\">\n",
       "      <th></th>\n",
       "      <th>rk</th>\n",
       "      <th>mp</th>\n",
       "      <th>w</th>\n",
       "      <th>d</th>\n",
       "      <th>l</th>\n",
       "      <th>gf</th>\n",
       "      <th>ga</th>\n",
       "      <th>gd</th>\n",
       "      <th>pts</th>\n",
       "      <th>pts/mp</th>\n",
       "      <th>attendance</th>\n",
       "      <th>season</th>\n",
       "      <th>xg</th>\n",
       "      <th>xga</th>\n",
       "      <th>xgd</th>\n",
       "      <th>xgd/90</th>\n",
       "    </tr>\n",
       "  </thead>\n",
       "  <tbody>\n",
       "    <tr>\n",
       "      <th>count</th>\n",
       "      <td>220.000000</td>\n",
       "      <td>220.0</td>\n",
       "      <td>220.000000</td>\n",
       "      <td>220.000000</td>\n",
       "      <td>220.000000</td>\n",
       "      <td>220.000000</td>\n",
       "      <td>220.000000</td>\n",
       "      <td>220.00000</td>\n",
       "      <td>220.00000</td>\n",
       "      <td>220.000000</td>\n",
       "      <td>204.000000</td>\n",
       "      <td>220.000000</td>\n",
       "      <td>160.00000</td>\n",
       "      <td>160.000000</td>\n",
       "      <td>160.000000</td>\n",
       "      <td>160.000000</td>\n",
       "    </tr>\n",
       "    <tr>\n",
       "      <th>mean</th>\n",
       "      <td>10.500000</td>\n",
       "      <td>38.0</td>\n",
       "      <td>14.063636</td>\n",
       "      <td>9.872727</td>\n",
       "      <td>14.063636</td>\n",
       "      <td>49.900000</td>\n",
       "      <td>49.900000</td>\n",
       "      <td>0.00000</td>\n",
       "      <td>52.05000</td>\n",
       "      <td>1.370000</td>\n",
       "      <td>26453.098039</td>\n",
       "      <td>2019.000000</td>\n",
       "      <td>48.84250</td>\n",
       "      <td>48.843750</td>\n",
       "      <td>0.000000</td>\n",
       "      <td>-0.000312</td>\n",
       "    </tr>\n",
       "    <tr>\n",
       "      <th>std</th>\n",
       "      <td>5.779431</td>\n",
       "      <td>0.0</td>\n",
       "      <td>6.214987</td>\n",
       "      <td>2.914643</td>\n",
       "      <td>5.476854</td>\n",
       "      <td>17.750915</td>\n",
       "      <td>13.141277</td>\n",
       "      <td>26.75391</td>\n",
       "      <td>17.47411</td>\n",
       "      <td>0.459624</td>\n",
       "      <td>18088.531993</td>\n",
       "      <td>3.169489</td>\n",
       "      <td>11.62082</td>\n",
       "      <td>8.621326</td>\n",
       "      <td>17.129878</td>\n",
       "      <td>0.450948</td>\n",
       "    </tr>\n",
       "    <tr>\n",
       "      <th>min</th>\n",
       "      <td>1.000000</td>\n",
       "      <td>38.0</td>\n",
       "      <td>3.000000</td>\n",
       "      <td>2.000000</td>\n",
       "      <td>1.000000</td>\n",
       "      <td>22.000000</td>\n",
       "      <td>18.000000</td>\n",
       "      <td>-64.00000</td>\n",
       "      <td>16.00000</td>\n",
       "      <td>0.420000</td>\n",
       "      <td>91.000000</td>\n",
       "      <td>2014.000000</td>\n",
       "      <td>29.30000</td>\n",
       "      <td>32.500000</td>\n",
       "      <td>-33.000000</td>\n",
       "      <td>-0.870000</td>\n",
       "    </tr>\n",
       "    <tr>\n",
       "      <th>25%</th>\n",
       "      <td>5.750000</td>\n",
       "      <td>38.0</td>\n",
       "      <td>10.000000</td>\n",
       "      <td>8.000000</td>\n",
       "      <td>10.000000</td>\n",
       "      <td>38.000000</td>\n",
       "      <td>41.000000</td>\n",
       "      <td>-17.00000</td>\n",
       "      <td>41.00000</td>\n",
       "      <td>1.080000</td>\n",
       "      <td>13677.500000</td>\n",
       "      <td>2016.000000</td>\n",
       "      <td>40.57500</td>\n",
       "      <td>42.875000</td>\n",
       "      <td>-11.000000</td>\n",
       "      <td>-0.290000</td>\n",
       "    </tr>\n",
       "    <tr>\n",
       "      <th>50%</th>\n",
       "      <td>10.500000</td>\n",
       "      <td>38.0</td>\n",
       "      <td>13.000000</td>\n",
       "      <td>10.000000</td>\n",
       "      <td>15.000000</td>\n",
       "      <td>46.000000</td>\n",
       "      <td>50.000000</td>\n",
       "      <td>-6.00000</td>\n",
       "      <td>48.50000</td>\n",
       "      <td>1.275000</td>\n",
       "      <td>19957.000000</td>\n",
       "      <td>2019.000000</td>\n",
       "      <td>45.85000</td>\n",
       "      <td>48.300000</td>\n",
       "      <td>-3.150000</td>\n",
       "      <td>-0.080000</td>\n",
       "    </tr>\n",
       "    <tr>\n",
       "      <th>75%</th>\n",
       "      <td>15.250000</td>\n",
       "      <td>38.0</td>\n",
       "      <td>17.250000</td>\n",
       "      <td>12.000000</td>\n",
       "      <td>18.000000</td>\n",
       "      <td>57.000000</td>\n",
       "      <td>58.000000</td>\n",
       "      <td>13.00000</td>\n",
       "      <td>61.00000</td>\n",
       "      <td>1.610000</td>\n",
       "      <td>37320.500000</td>\n",
       "      <td>2022.000000</td>\n",
       "      <td>53.97500</td>\n",
       "      <td>54.425000</td>\n",
       "      <td>11.000000</td>\n",
       "      <td>0.292500</td>\n",
       "    </tr>\n",
       "    <tr>\n",
       "      <th>max</th>\n",
       "      <td>20.000000</td>\n",
       "      <td>38.0</td>\n",
       "      <td>30.000000</td>\n",
       "      <td>18.000000</td>\n",
       "      <td>30.000000</td>\n",
       "      <td>118.000000</td>\n",
       "      <td>94.000000</td>\n",
       "      <td>89.00000</td>\n",
       "      <td>95.00000</td>\n",
       "      <td>2.500000</td>\n",
       "      <td>83498.000000</td>\n",
       "      <td>2024.000000</td>\n",
       "      <td>91.50000</td>\n",
       "      <td>76.200000</td>\n",
       "      <td>49.500000</td>\n",
       "      <td>1.300000</td>\n",
       "    </tr>\n",
       "  </tbody>\n",
       "</table>\n",
       "</div>"
      ],
      "text/plain": [
       "               rk     mp           w           d           l          gf  \\\n",
       "count  220.000000  220.0  220.000000  220.000000  220.000000  220.000000   \n",
       "mean    10.500000   38.0   14.063636    9.872727   14.063636   49.900000   \n",
       "std      5.779431    0.0    6.214987    2.914643    5.476854   17.750915   \n",
       "min      1.000000   38.0    3.000000    2.000000    1.000000   22.000000   \n",
       "25%      5.750000   38.0   10.000000    8.000000   10.000000   38.000000   \n",
       "50%     10.500000   38.0   13.000000   10.000000   15.000000   46.000000   \n",
       "75%     15.250000   38.0   17.250000   12.000000   18.000000   57.000000   \n",
       "max     20.000000   38.0   30.000000   18.000000   30.000000  118.000000   \n",
       "\n",
       "               ga         gd        pts      pts/mp    attendance  \\\n",
       "count  220.000000  220.00000  220.00000  220.000000    204.000000   \n",
       "mean    49.900000    0.00000   52.05000    1.370000  26453.098039   \n",
       "std     13.141277   26.75391   17.47411    0.459624  18088.531993   \n",
       "min     18.000000  -64.00000   16.00000    0.420000     91.000000   \n",
       "25%     41.000000  -17.00000   41.00000    1.080000  13677.500000   \n",
       "50%     50.000000   -6.00000   48.50000    1.275000  19957.000000   \n",
       "75%     58.000000   13.00000   61.00000    1.610000  37320.500000   \n",
       "max     94.000000   89.00000   95.00000    2.500000  83498.000000   \n",
       "\n",
       "            season         xg         xga         xgd      xgd/90  \n",
       "count   220.000000  160.00000  160.000000  160.000000  160.000000  \n",
       "mean   2019.000000   48.84250   48.843750    0.000000   -0.000312  \n",
       "std       3.169489   11.62082    8.621326   17.129878    0.450948  \n",
       "min    2014.000000   29.30000   32.500000  -33.000000   -0.870000  \n",
       "25%    2016.000000   40.57500   42.875000  -11.000000   -0.290000  \n",
       "50%    2019.000000   45.85000   48.300000   -3.150000   -0.080000  \n",
       "75%    2022.000000   53.97500   54.425000   11.000000    0.292500  \n",
       "max    2024.000000   91.50000   76.200000   49.500000    1.300000  "
      ]
     },
     "execution_count": 5,
     "metadata": {},
     "output_type": "execute_result"
    }
   ],
   "source": [
    "full_data.describe()"
   ]
  },
  {
   "cell_type": "code",
   "execution_count": 6,
   "metadata": {},
   "outputs": [
    {
     "name": "stdout",
     "output_type": "stream",
     "text": [
      "     season            squad  pts  pts/mp  gd\n",
      "0      2014        Barcelona   94    2.47  89\n",
      "20     2015        Barcelona   91    2.39  83\n",
      "40     2016      Real Madrid   93    2.45  65\n",
      "60     2017        Barcelona   93    2.45  70\n",
      "80     2018        Barcelona   87    2.29  54\n",
      "100    2019      Real Madrid   87    2.29  45\n",
      "120    2020  Atlético Madrid   86    2.26  42\n",
      "140    2021      Real Madrid   86    2.26  49\n",
      "160    2022        Barcelona   88    2.32  50\n",
      "180    2023      Real Madrid   95    2.50  61\n",
      "200    2024        Barcelona   88    2.32  63\n"
     ]
    }
   ],
   "source": [
    "###### Winning teams of the past 10 years\n",
    "\n",
    "# Filter the dataset fot teams that finished 1st each season\n",
    "winning_teams = full_data[full_data[\"rk\"] == 1][[\"season\", \"squad\", \"pts\", \"pts/mp\", \"gd\"]].sort_values(\"season\")\n",
    "\n",
    "#Display the results\n",
    "print(winning_teams)"
   ]
  },
  {
   "cell_type": "code",
   "execution_count": 7,
   "metadata": {},
   "outputs": [
    {
     "data": {
      "text/html": [
       "<div>\n",
       "<style scoped>\n",
       "    .dataframe tbody tr th:only-of-type {\n",
       "        vertical-align: middle;\n",
       "    }\n",
       "\n",
       "    .dataframe tbody tr th {\n",
       "        vertical-align: top;\n",
       "    }\n",
       "\n",
       "    .dataframe thead th {\n",
       "        text-align: right;\n",
       "    }\n",
       "</style>\n",
       "<table border=\"1\" class=\"dataframe\">\n",
       "  <thead>\n",
       "    <tr style=\"text-align: right;\">\n",
       "      <th></th>\n",
       "      <th>rk</th>\n",
       "      <th>squad</th>\n",
       "      <th>mp</th>\n",
       "      <th>w</th>\n",
       "      <th>d</th>\n",
       "      <th>l</th>\n",
       "      <th>gf</th>\n",
       "      <th>ga</th>\n",
       "      <th>gd</th>\n",
       "      <th>pts</th>\n",
       "      <th>pts/mp</th>\n",
       "      <th>attendance</th>\n",
       "      <th>top_team_scorer</th>\n",
       "      <th>goalkeeper</th>\n",
       "      <th>notes</th>\n",
       "      <th>season</th>\n",
       "      <th>xg</th>\n",
       "      <th>xga</th>\n",
       "      <th>xgd</th>\n",
       "      <th>xgd/90</th>\n",
       "    </tr>\n",
       "  </thead>\n",
       "  <tbody>\n",
       "    <tr>\n",
       "      <th>0</th>\n",
       "      <td>1</td>\n",
       "      <td>Barcelona</td>\n",
       "      <td>38</td>\n",
       "      <td>30</td>\n",
       "      <td>4</td>\n",
       "      <td>4</td>\n",
       "      <td>110</td>\n",
       "      <td>21</td>\n",
       "      <td>89</td>\n",
       "      <td>94</td>\n",
       "      <td>2.47</td>\n",
       "      <td>77632.0</td>\n",
       "      <td>Lionel Messi - 43</td>\n",
       "      <td>Claudio Bravo</td>\n",
       "      <td>→ Champions League via Champions League win</td>\n",
       "      <td>2014</td>\n",
       "      <td>NaN</td>\n",
       "      <td>NaN</td>\n",
       "      <td>NaN</td>\n",
       "      <td>NaN</td>\n",
       "    </tr>\n",
       "    <tr>\n",
       "      <th>1</th>\n",
       "      <td>2</td>\n",
       "      <td>Real Madrid</td>\n",
       "      <td>38</td>\n",
       "      <td>30</td>\n",
       "      <td>2</td>\n",
       "      <td>6</td>\n",
       "      <td>118</td>\n",
       "      <td>38</td>\n",
       "      <td>80</td>\n",
       "      <td>92</td>\n",
       "      <td>2.42</td>\n",
       "      <td>73545.0</td>\n",
       "      <td>Cristiano Ronaldo - 48</td>\n",
       "      <td>Iker Casillas</td>\n",
       "      <td>→ Champions League via league finish</td>\n",
       "      <td>2014</td>\n",
       "      <td>NaN</td>\n",
       "      <td>NaN</td>\n",
       "      <td>NaN</td>\n",
       "      <td>NaN</td>\n",
       "    </tr>\n",
       "    <tr>\n",
       "      <th>2</th>\n",
       "      <td>3</td>\n",
       "      <td>Atlético Madrid</td>\n",
       "      <td>38</td>\n",
       "      <td>23</td>\n",
       "      <td>9</td>\n",
       "      <td>6</td>\n",
       "      <td>67</td>\n",
       "      <td>29</td>\n",
       "      <td>38</td>\n",
       "      <td>78</td>\n",
       "      <td>2.05</td>\n",
       "      <td>46454.0</td>\n",
       "      <td>Antoine Griezmann - 22</td>\n",
       "      <td>Miguel Ángel Moyá</td>\n",
       "      <td>→ Champions League via league finish</td>\n",
       "      <td>2014</td>\n",
       "      <td>NaN</td>\n",
       "      <td>NaN</td>\n",
       "      <td>NaN</td>\n",
       "      <td>NaN</td>\n",
       "    </tr>\n",
       "    <tr>\n",
       "      <th>3</th>\n",
       "      <td>4</td>\n",
       "      <td>Valencia</td>\n",
       "      <td>38</td>\n",
       "      <td>22</td>\n",
       "      <td>11</td>\n",
       "      <td>5</td>\n",
       "      <td>70</td>\n",
       "      <td>32</td>\n",
       "      <td>38</td>\n",
       "      <td>77</td>\n",
       "      <td>2.03</td>\n",
       "      <td>43125.0</td>\n",
       "      <td>Daniel Parejo - 12</td>\n",
       "      <td>Diego Alves</td>\n",
       "      <td>→ Champions League via league finish</td>\n",
       "      <td>2014</td>\n",
       "      <td>NaN</td>\n",
       "      <td>NaN</td>\n",
       "      <td>NaN</td>\n",
       "      <td>NaN</td>\n",
       "    </tr>\n",
       "    <tr>\n",
       "      <th>4</th>\n",
       "      <td>5</td>\n",
       "      <td>Sevilla</td>\n",
       "      <td>38</td>\n",
       "      <td>23</td>\n",
       "      <td>7</td>\n",
       "      <td>8</td>\n",
       "      <td>71</td>\n",
       "      <td>45</td>\n",
       "      <td>26</td>\n",
       "      <td>76</td>\n",
       "      <td>2.00</td>\n",
       "      <td>30878.0</td>\n",
       "      <td>Carlos Bacca - 20</td>\n",
       "      <td>Sergio Rico</td>\n",
       "      <td>→ Champions League via Europa League win</td>\n",
       "      <td>2014</td>\n",
       "      <td>NaN</td>\n",
       "      <td>NaN</td>\n",
       "      <td>NaN</td>\n",
       "      <td>NaN</td>\n",
       "    </tr>\n",
       "    <tr>\n",
       "      <th>5</th>\n",
       "      <td>6</td>\n",
       "      <td>Villarreal</td>\n",
       "      <td>38</td>\n",
       "      <td>16</td>\n",
       "      <td>12</td>\n",
       "      <td>10</td>\n",
       "      <td>48</td>\n",
       "      <td>37</td>\n",
       "      <td>11</td>\n",
       "      <td>60</td>\n",
       "      <td>1.58</td>\n",
       "      <td>16375.0</td>\n",
       "      <td>Luciano Vietto - 12</td>\n",
       "      <td>Sergio Asenjo</td>\n",
       "      <td>→ Europa League via league finish 1</td>\n",
       "      <td>2014</td>\n",
       "      <td>NaN</td>\n",
       "      <td>NaN</td>\n",
       "      <td>NaN</td>\n",
       "      <td>NaN</td>\n",
       "    </tr>\n",
       "    <tr>\n",
       "      <th>6</th>\n",
       "      <td>7</td>\n",
       "      <td>Athletic Club</td>\n",
       "      <td>38</td>\n",
       "      <td>15</td>\n",
       "      <td>10</td>\n",
       "      <td>13</td>\n",
       "      <td>42</td>\n",
       "      <td>41</td>\n",
       "      <td>1</td>\n",
       "      <td>55</td>\n",
       "      <td>1.45</td>\n",
       "      <td>40654.0</td>\n",
       "      <td>Aritz Aduriz - 18</td>\n",
       "      <td>Gorka Iraizoz</td>\n",
       "      <td>→ Europa League via league finish</td>\n",
       "      <td>2014</td>\n",
       "      <td>NaN</td>\n",
       "      <td>NaN</td>\n",
       "      <td>NaN</td>\n",
       "      <td>NaN</td>\n",
       "    </tr>\n",
       "    <tr>\n",
       "      <th>7</th>\n",
       "      <td>8</td>\n",
       "      <td>Celta Vigo</td>\n",
       "      <td>38</td>\n",
       "      <td>13</td>\n",
       "      <td>12</td>\n",
       "      <td>13</td>\n",
       "      <td>47</td>\n",
       "      <td>44</td>\n",
       "      <td>3</td>\n",
       "      <td>51</td>\n",
       "      <td>1.34</td>\n",
       "      <td>19039.0</td>\n",
       "      <td>Nolito - 13</td>\n",
       "      <td>Sergio Álvarez</td>\n",
       "      <td>NaN</td>\n",
       "      <td>2014</td>\n",
       "      <td>NaN</td>\n",
       "      <td>NaN</td>\n",
       "      <td>NaN</td>\n",
       "      <td>NaN</td>\n",
       "    </tr>\n",
       "    <tr>\n",
       "      <th>8</th>\n",
       "      <td>9</td>\n",
       "      <td>Málaga</td>\n",
       "      <td>38</td>\n",
       "      <td>14</td>\n",
       "      <td>8</td>\n",
       "      <td>16</td>\n",
       "      <td>42</td>\n",
       "      <td>48</td>\n",
       "      <td>-6</td>\n",
       "      <td>50</td>\n",
       "      <td>1.32</td>\n",
       "      <td>22333.0</td>\n",
       "      <td>Juanmi - 8</td>\n",
       "      <td>Carlos Kameni</td>\n",
       "      <td>NaN</td>\n",
       "      <td>2014</td>\n",
       "      <td>NaN</td>\n",
       "      <td>NaN</td>\n",
       "      <td>NaN</td>\n",
       "      <td>NaN</td>\n",
       "    </tr>\n",
       "    <tr>\n",
       "      <th>9</th>\n",
       "      <td>10</td>\n",
       "      <td>Espanyol</td>\n",
       "      <td>38</td>\n",
       "      <td>13</td>\n",
       "      <td>10</td>\n",
       "      <td>15</td>\n",
       "      <td>47</td>\n",
       "      <td>51</td>\n",
       "      <td>-4</td>\n",
       "      <td>49</td>\n",
       "      <td>1.29</td>\n",
       "      <td>18694.0</td>\n",
       "      <td>Sergio García - 14</td>\n",
       "      <td>Kiko Casilla</td>\n",
       "      <td>NaN</td>\n",
       "      <td>2014</td>\n",
       "      <td>NaN</td>\n",
       "      <td>NaN</td>\n",
       "      <td>NaN</td>\n",
       "      <td>NaN</td>\n",
       "    </tr>\n",
       "  </tbody>\n",
       "</table>\n",
       "</div>"
      ],
      "text/plain": [
       "   rk            squad  mp   w   d   l   gf  ga  gd  pts  pts/mp  attendance  \\\n",
       "0   1        Barcelona  38  30   4   4  110  21  89   94    2.47     77632.0   \n",
       "1   2      Real Madrid  38  30   2   6  118  38  80   92    2.42     73545.0   \n",
       "2   3  Atlético Madrid  38  23   9   6   67  29  38   78    2.05     46454.0   \n",
       "3   4         Valencia  38  22  11   5   70  32  38   77    2.03     43125.0   \n",
       "4   5          Sevilla  38  23   7   8   71  45  26   76    2.00     30878.0   \n",
       "5   6       Villarreal  38  16  12  10   48  37  11   60    1.58     16375.0   \n",
       "6   7    Athletic Club  38  15  10  13   42  41   1   55    1.45     40654.0   \n",
       "7   8       Celta Vigo  38  13  12  13   47  44   3   51    1.34     19039.0   \n",
       "8   9           Málaga  38  14   8  16   42  48  -6   50    1.32     22333.0   \n",
       "9  10         Espanyol  38  13  10  15   47  51  -4   49    1.29     18694.0   \n",
       "\n",
       "          top_team_scorer         goalkeeper  \\\n",
       "0       Lionel Messi - 43      Claudio Bravo   \n",
       "1  Cristiano Ronaldo - 48      Iker Casillas   \n",
       "2  Antoine Griezmann - 22  Miguel Ángel Moyá   \n",
       "3      Daniel Parejo - 12        Diego Alves   \n",
       "4       Carlos Bacca - 20        Sergio Rico   \n",
       "5     Luciano Vietto - 12      Sergio Asenjo   \n",
       "6       Aritz Aduriz - 18      Gorka Iraizoz   \n",
       "7             Nolito - 13     Sergio Álvarez   \n",
       "8              Juanmi - 8      Carlos Kameni   \n",
       "9      Sergio García - 14       Kiko Casilla   \n",
       "\n",
       "                                         notes  season  xg  xga  xgd  xgd/90  \n",
       "0  → Champions League via Champions League win    2014 NaN  NaN  NaN     NaN  \n",
       "1         → Champions League via league finish    2014 NaN  NaN  NaN     NaN  \n",
       "2         → Champions League via league finish    2014 NaN  NaN  NaN     NaN  \n",
       "3         → Champions League via league finish    2014 NaN  NaN  NaN     NaN  \n",
       "4     → Champions League via Europa League win    2014 NaN  NaN  NaN     NaN  \n",
       "5          → Europa League via league finish 1    2014 NaN  NaN  NaN     NaN  \n",
       "6            → Europa League via league finish    2014 NaN  NaN  NaN     NaN  \n",
       "7                                          NaN    2014 NaN  NaN  NaN     NaN  \n",
       "8                                          NaN    2014 NaN  NaN  NaN     NaN  \n",
       "9                                          NaN    2014 NaN  NaN  NaN     NaN  "
      ]
     },
     "execution_count": 7,
     "metadata": {},
     "output_type": "execute_result"
    }
   ],
   "source": [
    "full_data.head(10)"
   ]
  },
  {
   "cell_type": "code",
   "execution_count": 8,
   "metadata": {},
   "outputs": [
    {
     "name": "stdout",
     "output_type": "stream",
     "text": [
      "Average Pts/mp for past 10 winning teams (excluding this year): 2.37)\n"
     ]
    }
   ],
   "source": [
    "# Filter the dataset fot teams that finished 1st each season\n",
    "winning_teams_past_10 = full_data[(full_data[\"rk\"] == 1) & (full_data[\"season\"] < 2024)]\n",
    "\n",
    "# Compute the average 'pts/mp' for the past 10 years winning teams\n",
    "avg_pts_mp_winners = winning_teams_past_10[\"pts/mp\"].mean()\n",
    "\n",
    "#Display the result\n",
    "print(f\"Average Pts/mp for past 10 winning teams (excluding this year): {avg_pts_mp_winners:.2f})\")"
   ]
  },
  {
   "cell_type": "code",
   "execution_count": 9,
   "metadata": {},
   "outputs": [],
   "source": [
    "# Convert 'rk' to binary (1 if team won the league, 0 otherwise)\n",
    "full_data[\"is_champion\"] = (full_data[\"rk\"] ==1).astype(int)\n",
    "\n",
    "# Filter omly championship-winning teams\n",
    "champions_only = full_data[full_data[\"is_champion\"] == 1]"
   ]
  },
  {
   "cell_type": "code",
   "execution_count": 10,
   "metadata": {},
   "outputs": [
    {
     "data": {
      "text/html": [
       "<div>\n",
       "<style scoped>\n",
       "    .dataframe tbody tr th:only-of-type {\n",
       "        vertical-align: middle;\n",
       "    }\n",
       "\n",
       "    .dataframe tbody tr th {\n",
       "        vertical-align: top;\n",
       "    }\n",
       "\n",
       "    .dataframe thead th {\n",
       "        text-align: right;\n",
       "    }\n",
       "</style>\n",
       "<table border=\"1\" class=\"dataframe\">\n",
       "  <thead>\n",
       "    <tr style=\"text-align: right;\">\n",
       "      <th></th>\n",
       "      <th>rk</th>\n",
       "      <th>squad</th>\n",
       "      <th>mp</th>\n",
       "      <th>w</th>\n",
       "      <th>d</th>\n",
       "      <th>l</th>\n",
       "      <th>gf</th>\n",
       "      <th>ga</th>\n",
       "      <th>gd</th>\n",
       "      <th>pts</th>\n",
       "      <th>...</th>\n",
       "      <th>attendance</th>\n",
       "      <th>top_team_scorer</th>\n",
       "      <th>goalkeeper</th>\n",
       "      <th>notes</th>\n",
       "      <th>season</th>\n",
       "      <th>xg</th>\n",
       "      <th>xga</th>\n",
       "      <th>xgd</th>\n",
       "      <th>xgd/90</th>\n",
       "      <th>is_champion</th>\n",
       "    </tr>\n",
       "  </thead>\n",
       "  <tbody>\n",
       "    <tr>\n",
       "      <th>0</th>\n",
       "      <td>1</td>\n",
       "      <td>Barcelona</td>\n",
       "      <td>38</td>\n",
       "      <td>30</td>\n",
       "      <td>4</td>\n",
       "      <td>4</td>\n",
       "      <td>110</td>\n",
       "      <td>21</td>\n",
       "      <td>89</td>\n",
       "      <td>94</td>\n",
       "      <td>...</td>\n",
       "      <td>77632.0</td>\n",
       "      <td>Lionel Messi - 43</td>\n",
       "      <td>Claudio Bravo</td>\n",
       "      <td>→ Champions League via Champions League win</td>\n",
       "      <td>2014</td>\n",
       "      <td>NaN</td>\n",
       "      <td>NaN</td>\n",
       "      <td>NaN</td>\n",
       "      <td>NaN</td>\n",
       "      <td>1</td>\n",
       "    </tr>\n",
       "    <tr>\n",
       "      <th>1</th>\n",
       "      <td>2</td>\n",
       "      <td>Real Madrid</td>\n",
       "      <td>38</td>\n",
       "      <td>30</td>\n",
       "      <td>2</td>\n",
       "      <td>6</td>\n",
       "      <td>118</td>\n",
       "      <td>38</td>\n",
       "      <td>80</td>\n",
       "      <td>92</td>\n",
       "      <td>...</td>\n",
       "      <td>73545.0</td>\n",
       "      <td>Cristiano Ronaldo - 48</td>\n",
       "      <td>Iker Casillas</td>\n",
       "      <td>→ Champions League via league finish</td>\n",
       "      <td>2014</td>\n",
       "      <td>NaN</td>\n",
       "      <td>NaN</td>\n",
       "      <td>NaN</td>\n",
       "      <td>NaN</td>\n",
       "      <td>0</td>\n",
       "    </tr>\n",
       "    <tr>\n",
       "      <th>2</th>\n",
       "      <td>3</td>\n",
       "      <td>Atlético Madrid</td>\n",
       "      <td>38</td>\n",
       "      <td>23</td>\n",
       "      <td>9</td>\n",
       "      <td>6</td>\n",
       "      <td>67</td>\n",
       "      <td>29</td>\n",
       "      <td>38</td>\n",
       "      <td>78</td>\n",
       "      <td>...</td>\n",
       "      <td>46454.0</td>\n",
       "      <td>Antoine Griezmann - 22</td>\n",
       "      <td>Miguel Ángel Moyá</td>\n",
       "      <td>→ Champions League via league finish</td>\n",
       "      <td>2014</td>\n",
       "      <td>NaN</td>\n",
       "      <td>NaN</td>\n",
       "      <td>NaN</td>\n",
       "      <td>NaN</td>\n",
       "      <td>0</td>\n",
       "    </tr>\n",
       "    <tr>\n",
       "      <th>3</th>\n",
       "      <td>4</td>\n",
       "      <td>Valencia</td>\n",
       "      <td>38</td>\n",
       "      <td>22</td>\n",
       "      <td>11</td>\n",
       "      <td>5</td>\n",
       "      <td>70</td>\n",
       "      <td>32</td>\n",
       "      <td>38</td>\n",
       "      <td>77</td>\n",
       "      <td>...</td>\n",
       "      <td>43125.0</td>\n",
       "      <td>Daniel Parejo - 12</td>\n",
       "      <td>Diego Alves</td>\n",
       "      <td>→ Champions League via league finish</td>\n",
       "      <td>2014</td>\n",
       "      <td>NaN</td>\n",
       "      <td>NaN</td>\n",
       "      <td>NaN</td>\n",
       "      <td>NaN</td>\n",
       "      <td>0</td>\n",
       "    </tr>\n",
       "    <tr>\n",
       "      <th>4</th>\n",
       "      <td>5</td>\n",
       "      <td>Sevilla</td>\n",
       "      <td>38</td>\n",
       "      <td>23</td>\n",
       "      <td>7</td>\n",
       "      <td>8</td>\n",
       "      <td>71</td>\n",
       "      <td>45</td>\n",
       "      <td>26</td>\n",
       "      <td>76</td>\n",
       "      <td>...</td>\n",
       "      <td>30878.0</td>\n",
       "      <td>Carlos Bacca - 20</td>\n",
       "      <td>Sergio Rico</td>\n",
       "      <td>→ Champions League via Europa League win</td>\n",
       "      <td>2014</td>\n",
       "      <td>NaN</td>\n",
       "      <td>NaN</td>\n",
       "      <td>NaN</td>\n",
       "      <td>NaN</td>\n",
       "      <td>0</td>\n",
       "    </tr>\n",
       "  </tbody>\n",
       "</table>\n",
       "<p>5 rows × 21 columns</p>\n",
       "</div>"
      ],
      "text/plain": [
       "   rk            squad  mp   w   d  l   gf  ga  gd  pts  ...  attendance  \\\n",
       "0   1        Barcelona  38  30   4  4  110  21  89   94  ...     77632.0   \n",
       "1   2      Real Madrid  38  30   2  6  118  38  80   92  ...     73545.0   \n",
       "2   3  Atlético Madrid  38  23   9  6   67  29  38   78  ...     46454.0   \n",
       "3   4         Valencia  38  22  11  5   70  32  38   77  ...     43125.0   \n",
       "4   5          Sevilla  38  23   7  8   71  45  26   76  ...     30878.0   \n",
       "\n",
       "          top_team_scorer         goalkeeper  \\\n",
       "0       Lionel Messi - 43      Claudio Bravo   \n",
       "1  Cristiano Ronaldo - 48      Iker Casillas   \n",
       "2  Antoine Griezmann - 22  Miguel Ángel Moyá   \n",
       "3      Daniel Parejo - 12        Diego Alves   \n",
       "4       Carlos Bacca - 20        Sergio Rico   \n",
       "\n",
       "                                         notes season  xg  xga  xgd  xgd/90  \\\n",
       "0  → Champions League via Champions League win   2014 NaN  NaN  NaN     NaN   \n",
       "1         → Champions League via league finish   2014 NaN  NaN  NaN     NaN   \n",
       "2         → Champions League via league finish   2014 NaN  NaN  NaN     NaN   \n",
       "3         → Champions League via league finish   2014 NaN  NaN  NaN     NaN   \n",
       "4     → Champions League via Europa League win   2014 NaN  NaN  NaN     NaN   \n",
       "\n",
       "   is_champion  \n",
       "0            1  \n",
       "1            0  \n",
       "2            0  \n",
       "3            0  \n",
       "4            0  \n",
       "\n",
       "[5 rows x 21 columns]"
      ]
     },
     "execution_count": 10,
     "metadata": {},
     "output_type": "execute_result"
    }
   ],
   "source": [
    "full_data.head()"
   ]
  },
  {
   "cell_type": "code",
   "execution_count": 11,
   "metadata": {},
   "outputs": [
    {
     "name": "stdout",
     "output_type": "stream",
     "text": [
      "Mean of 'ptes/mp': 2.36\n"
     ]
    }
   ],
   "source": [
    "# Calculate the mean of 'pts/mp'\n",
    "mean_pts_mp = champions_only[\"pts/mp\"].mean()\n",
    "\n",
    "print(f\"Mean of 'ptes/mp': {mean_pts_mp:.2f}\")"
   ]
  },
  {
   "cell_type": "code",
   "execution_count": 12,
   "metadata": {},
   "outputs": [
    {
     "data": {
      "image/png": "[encoded data removed]",
      "text/plain": [
       "<Figure size 1000x500 with 1 Axes>"
      ]
     },
     "metadata": {},
     "output_type": "display_data"
    }
   ],
   "source": [
    "import matplotlib.pyplot as plt\n",
    "\n",
    "# Plot trend of 'pts/mp' for champions over the years\n",
    "plt.figure(figsize=(10, 5))\n",
    "plt.plot(champions_only[\"season\"], champions_only[\"pts/mp\"], marker=\"o\", linestyle=\"-\", color=\"b\")\n",
    "plt.axhline(y=mean_pts_mp, color='r', linestyle='-', label=f'Mean: {mean_pts_mp:.2f}')\n",
    "plt.xlabel(\"Season\")\n",
    "plt.ylabel(\"Points per Match (Pts/mp)\")\n",
    "plt.title(\"Trend of Pts/Mp for League Winners Over Time\")\n",
    "plt.grid(True)\n",
    "plt.legend()\n",
    "plt.show()"
   ]
  },
  {
   "cell_type": "markdown",
   "metadata": {},
   "source": [
    "## ML Modeling & Predictions"
   ]
  },
  {
   "cell_type": "code",
   "execution_count": 13,
   "metadata": {},
   "outputs": [],
   "source": [
    "from sklearn.ensemble import RandomForestClassifier # Machine learning model\n",
    "from sklearn.preprocessing import StandardScaler # Tp normalize our features\n",
    "from sklearn.metrics import accuracy_score, classification_report, confusion_matrix, roc_auc_score, log_loss # Modela evaluation\n",
    "from sklearn.model_selection import cross_val_score # For cross-validation\n",
    "import pandas as pd\n",
    "import numpy as np"
   ]
  },
  {
   "cell_type": "code",
   "execution_count": 14,
   "metadata": {},
   "outputs": [],
   "source": [
    "# Calculate how many games each team has left to play (La Liga has 38 total games)\n",
    "full_data[\"games_left\"] = 38 - full_data[\"mp\"]\n",
    "\n",
    "# Estimate the final number of points if each team keeps their current pace\n",
    "full_data[\"projected_pts\"] = full_data[\"pts\"] + full_data[\"games_left\"] * full_data[\"pts/mp\"]\n",
    "\n",
    "#Create a binary column to indicate if a team was champion that season (1 = champion, 0 = not)\n",
    "full_data[\"is_champion\"] = (full_data[\"rk\"] == 1).astype(int)"
   ]
  },
  {
   "cell_type": "code",
   "execution_count": 15,
   "metadata": {},
   "outputs": [
    {
     "data": {
      "text/html": [
       "<div>\n",
       "<style scoped>\n",
       "    .dataframe tbody tr th:only-of-type {\n",
       "        vertical-align: middle;\n",
       "    }\n",
       "\n",
       "    .dataframe tbody tr th {\n",
       "        vertical-align: top;\n",
       "    }\n",
       "\n",
       "    .dataframe thead th {\n",
       "        text-align: right;\n",
       "    }\n",
       "</style>\n",
       "<table border=\"1\" class=\"dataframe\">\n",
       "  <thead>\n",
       "    <tr style=\"text-align: right;\">\n",
       "      <th></th>\n",
       "      <th>rk</th>\n",
       "      <th>squad</th>\n",
       "      <th>mp</th>\n",
       "      <th>w</th>\n",
       "      <th>d</th>\n",
       "      <th>l</th>\n",
       "      <th>gf</th>\n",
       "      <th>ga</th>\n",
       "      <th>gd</th>\n",
       "      <th>pts</th>\n",
       "      <th>...</th>\n",
       "      <th>goalkeeper</th>\n",
       "      <th>notes</th>\n",
       "      <th>season</th>\n",
       "      <th>xg</th>\n",
       "      <th>xga</th>\n",
       "      <th>xgd</th>\n",
       "      <th>xgd/90</th>\n",
       "      <th>is_champion</th>\n",
       "      <th>games_left</th>\n",
       "      <th>projected_pts</th>\n",
       "    </tr>\n",
       "  </thead>\n",
       "  <tbody>\n",
       "    <tr>\n",
       "      <th>217</th>\n",
       "      <td>18</td>\n",
       "      <td>Leganés</td>\n",
       "      <td>38</td>\n",
       "      <td>9</td>\n",
       "      <td>13</td>\n",
       "      <td>16</td>\n",
       "      <td>39</td>\n",
       "      <td>56</td>\n",
       "      <td>-17</td>\n",
       "      <td>40</td>\n",
       "      <td>...</td>\n",
       "      <td>Marko Dmitrović</td>\n",
       "      <td>Relegated</td>\n",
       "      <td>2024</td>\n",
       "      <td>36.0</td>\n",
       "      <td>59.4</td>\n",
       "      <td>-23.4</td>\n",
       "      <td>-0.62</td>\n",
       "      <td>0</td>\n",
       "      <td>0</td>\n",
       "      <td>40.0</td>\n",
       "    </tr>\n",
       "    <tr>\n",
       "      <th>218</th>\n",
       "      <td>19</td>\n",
       "      <td>Las Palmas</td>\n",
       "      <td>38</td>\n",
       "      <td>8</td>\n",
       "      <td>8</td>\n",
       "      <td>22</td>\n",
       "      <td>40</td>\n",
       "      <td>61</td>\n",
       "      <td>-21</td>\n",
       "      <td>32</td>\n",
       "      <td>...</td>\n",
       "      <td>Jasper Cillessen</td>\n",
       "      <td>Relegated</td>\n",
       "      <td>2024</td>\n",
       "      <td>36.3</td>\n",
       "      <td>66.8</td>\n",
       "      <td>-30.5</td>\n",
       "      <td>-0.80</td>\n",
       "      <td>0</td>\n",
       "      <td>0</td>\n",
       "      <td>32.0</td>\n",
       "    </tr>\n",
       "    <tr>\n",
       "      <th>219</th>\n",
       "      <td>20</td>\n",
       "      <td>Valladolid</td>\n",
       "      <td>38</td>\n",
       "      <td>4</td>\n",
       "      <td>4</td>\n",
       "      <td>30</td>\n",
       "      <td>26</td>\n",
       "      <td>90</td>\n",
       "      <td>-64</td>\n",
       "      <td>16</td>\n",
       "      <td>...</td>\n",
       "      <td>Karl Jakob Hein</td>\n",
       "      <td>Relegated</td>\n",
       "      <td>2024</td>\n",
       "      <td>34.6</td>\n",
       "      <td>67.6</td>\n",
       "      <td>-33.0</td>\n",
       "      <td>-0.87</td>\n",
       "      <td>0</td>\n",
       "      <td>0</td>\n",
       "      <td>16.0</td>\n",
       "    </tr>\n",
       "  </tbody>\n",
       "</table>\n",
       "<p>3 rows × 23 columns</p>\n",
       "</div>"
      ],
      "text/plain": [
       "     rk       squad  mp  w   d   l  gf  ga  gd  pts  ...        goalkeeper  \\\n",
       "217  18     Leganés  38  9  13  16  39  56 -17   40  ...   Marko Dmitrović   \n",
       "218  19  Las Palmas  38  8   8  22  40  61 -21   32  ...  Jasper Cillessen   \n",
       "219  20  Valladolid  38  4   4  30  26  90 -64   16  ...   Karl Jakob Hein   \n",
       "\n",
       "         notes season    xg   xga   xgd  xgd/90  is_champion  games_left  \\\n",
       "217  Relegated   2024  36.0  59.4 -23.4   -0.62            0           0   \n",
       "218  Relegated   2024  36.3  66.8 -30.5   -0.80            0           0   \n",
       "219  Relegated   2024  34.6  67.6 -33.0   -0.87            0           0   \n",
       "\n",
       "     projected_pts  \n",
       "217           40.0  \n",
       "218           32.0  \n",
       "219           16.0  \n",
       "\n",
       "[3 rows x 23 columns]"
      ]
     },
     "execution_count": 15,
     "metadata": {},
     "output_type": "execute_result"
    }
   ],
   "source": [
    "full_data.tail(3)"
   ]
  },
  {
   "cell_type": "code",
   "execution_count": 16,
   "metadata": {},
   "outputs": [],
   "source": [
    "# Define the features (inputs) the model will use\n",
    "features = [\"pts/mp\", \"gd\", \"w\", \"l\", \"projected_pts\"]\n",
    "\n",
    "# Create training data: all seasons before 2024\n",
    "df_train = full_data[full_data[\"season\"] < 2024]\n",
    "\n",
    "# Create testing data: only the 2024 season (current one)\n",
    "df_test = full_data[full_data[\"season\"] == 2024].copy()\n",
    "\n",
    "# Define features matrix (X) and target variable (y)\n",
    "X_train = df_train[features]\n",
    "y_train = df_train[\"is_champion\"]\n",
    "x_test = df_test[features]"
   ]
  },
  {
   "cell_type": "code",
   "execution_count": 17,
   "metadata": {},
   "outputs": [
    {
     "data": {
      "text/html": [
       "<style>#sk-container-id-1 {\n",
       "  /* Definition of color scheme common for light and dark mode */\n",
       "  --sklearn-color-text: #000;\n",
       "  --sklearn-color-text-muted: #666;\n",
       "  --sklearn-color-line: gray;\n",
       "  /* Definition of color scheme for unfitted estimators */\n",
       "  --sklearn-color-unfitted-level-0: #fff5e6;\n",
       "  --sklearn-color-unfitted-level-1: #f6e4d2;\n",
       "  --sklearn-color-unfitted-level-2: #ffe0b3;\n",
       "  --sklearn-color-unfitted-level-3: chocolate;\n",
       "  /* Definition of color scheme for fitted estimators */\n",
       "  --sklearn-color-fitted-level-0: #f0f8ff;\n",
       "  --sklearn-color-fitted-level-1: #d4ebff;\n",
       "  --sklearn-color-fitted-level-2: #b3dbfd;\n",
       "  --sklearn-color-fitted-level-3: cornflowerblue;\n",
       "\n",
       "  /* Specific color for light theme */\n",
       "  --sklearn-color-text-on-default-background: var(--sg-text-color, var(--theme-code-foreground, var(--jp-content-font-color1, black)));\n",
       "  --sklearn-color-background: var(--sg-background-color, var(--theme-background, var(--jp-layout-color0, white)));\n",
       "  --sklearn-color-border-box: var(--sg-text-color, var(--theme-code-foreground, var(--jp-content-font-color1, black)));\n",
       "  --sklearn-color-icon: #696969;\n",
       "\n",
       "  @media (prefers-color-scheme: dark) {\n",
       "    /* Redefinition of color scheme for dark theme */\n",
       "    --sklearn-color-text-on-default-background: var(--sg-text-color, var(--theme-code-foreground, var(--jp-content-font-color1, white)));\n",
       "    --sklearn-color-background: var(--sg-background-color, var(--theme-background, var(--jp-layout-color0, #111)));\n",
       "    --sklearn-color-border-box: var(--sg-text-color, var(--theme-code-foreground, var(--jp-content-font-color1, white)));\n",
       "    --sklearn-color-icon: #878787;\n",
       "  }\n",
       "}\n",
       "\n",
       "#sk-container-id-1 {\n",
       "  color: var(--sklearn-color-text);\n",
       "}\n",
       "\n",
       "#sk-container-id-1 pre {\n",
       "  padding: 0;\n",
       "}\n",
       "\n",
       "#sk-container-id-1 input.sk-hidden--visually {\n",
       "  border: 0;\n",
       "  clip: rect(1px 1px 1px 1px);\n",
       "  clip: rect(1px, 1px, 1px, 1px);\n",
       "  height: 1px;\n",
       "  margin: -1px;\n",
       "  overflow: hidden;\n",
       "  padding: 0;\n",
       "  position: absolute;\n",
       "  width: 1px;\n",
       "}\n",
       "\n",
       "#sk-container-id-1 div.sk-dashed-wrapped {\n",
       "  border: 1px dashed var(--sklearn-color-line);\n",
       "  margin: 0 0.4em 0.5em 0.4em;\n",
       "  box-sizing: border-box;\n",
       "  padding-bottom: 0.4em;\n",
       "  background-color: var(--sklearn-color-background);\n",
       "}\n",
       "\n",
       "#sk-container-id-1 div.sk-container {\n",
       "  /* jupyter's `normalize.less` sets `[hidden] { display: none; }`\n",
       "     but bootstrap.min.css set `[hidden] { display: none !important; }`\n",
       "     so we also need the `!important` here to be able to override the\n",
       "     default hidden behavior on the sphinx rendered scikit-learn.org.\n",
       "     See: https://github.com/scikit-learn/scikit-learn/issues/21755 */\n",
       "  display: inline-block !important;\n",
       "  position: relative;\n",
       "}\n",
       "\n",
       "#sk-container-id-1 div.sk-text-repr-fallback {\n",
       "  display: none;\n",
       "}\n",
       "\n",
       "div.sk-parallel-item,\n",
       "div.sk-serial,\n",
       "div.sk-item {\n",
       "  /* draw centered vertical line to link estimators */\n",
       "  background-image: linear-gradient(var(--sklearn-color-text-on-default-background), var(--sklearn-color-text-on-default-background));\n",
       "  background-size: 2px 100%;\n",
       "  background-repeat: no-repeat;\n",
       "  background-position: center center;\n",
       "}\n",
       "\n",
       "/* Parallel-specific style estimator block */\n",
       "\n",
       "#sk-container-id-1 div.sk-parallel-item::after {\n",
       "  content: \"\";\n",
       "  width: 100%;\n",
       "  border-bottom: 2px solid var(--sklearn-color-text-on-default-background);\n",
       "  flex-grow: 1;\n",
       "}\n",
       "\n",
       "#sk-container-id-1 div.sk-parallel {\n",
       "  display: flex;\n",
       "  align-items: stretch;\n",
       "  justify-content: center;\n",
       "  background-color: var(--sklearn-color-background);\n",
       "  position: relative;\n",
       "}\n",
       "\n",
       "#sk-container-id-1 div.sk-parallel-item {\n",
       "  display: flex;\n",
       "  flex-direction: column;\n",
       "}\n",
       "\n",
       "#sk-container-id-1 div.sk-parallel-item:first-child::after {\n",
       "  align-self: flex-end;\n",
       "  width: 50%;\n",
       "}\n",
       "\n",
       "#sk-container-id-1 div.sk-parallel-item:last-child::after {\n",
       "  align-self: flex-start;\n",
       "  width: 50%;\n",
       "}\n",
       "\n",
       "#sk-container-id-1 div.sk-parallel-item:only-child::after {\n",
       "  width: 0;\n",
       "}\n",
       "\n",
       "/* Serial-specific style estimator block */\n",
       "\n",
       "#sk-container-id-1 div.sk-serial {\n",
       "  display: flex;\n",
       "  flex-direction: column;\n",
       "  align-items: center;\n",
       "  background-color: var(--sklearn-color-background);\n",
       "  padding-right: 1em;\n",
       "  padding-left: 1em;\n",
       "}\n",
       "\n",
       "\n",
       "/* Toggleable style: style used for estimator/Pipeline/ColumnTransformer box that is\n",
       "clickable and can be expanded/collapsed.\n",
       "- Pipeline and ColumnTransformer use this feature and define the default style\n",
       "- Estimators will overwrite some part of the style using the `sk-estimator` class\n",
       "*/\n",
       "\n",
       "/* Pipeline and ColumnTransformer style (default) */\n",
       "\n",
       "#sk-container-id-1 div.sk-toggleable {\n",
       "  /* Default theme specific background. It is overwritten whether we have a\n",
       "  specific estimator or a Pipeline/ColumnTransformer */\n",
       "  background-color: var(--sklearn-color-background);\n",
       "}\n",
       "\n",
       "/* Toggleable label */\n",
       "#sk-container-id-1 label.sk-toggleable__label {\n",
       "  cursor: pointer;\n",
       "  display: flex;\n",
       "  width: 100%;\n",
       "  margin-bottom: 0;\n",
       "  padding: 0.5em;\n",
       "  box-sizing: border-box;\n",
       "  text-align: center;\n",
       "  align-items: start;\n",
       "  justify-content: space-between;\n",
       "  gap: 0.5em;\n",
       "}\n",
       "\n",
       "#sk-container-id-1 label.sk-toggleable__label .caption {\n",
       "  font-size: 0.6rem;\n",
       "  font-weight: lighter;\n",
       "  color: var(--sklearn-color-text-muted);\n",
       "}\n",
       "\n",
       "#sk-container-id-1 label.sk-toggleable__label-arrow:before {\n",
       "  /* Arrow on the left of the label */\n",
       "  content: \"▸\";\n",
       "  float: left;\n",
       "  margin-right: 0.25em;\n",
       "  color: var(--sklearn-color-icon);\n",
       "}\n",
       "\n",
       "#sk-container-id-1 label.sk-toggleable__label-arrow:hover:before {\n",
       "  color: var(--sklearn-color-text);\n",
       "}\n",
       "\n",
       "/* Toggleable content - dropdown */\n",
       "\n",
       "#sk-container-id-1 div.sk-toggleable__content {\n",
       "  display: none;\n",
       "  text-align: left;\n",
       "  /* unfitted */\n",
       "  background-color: var(--sklearn-color-unfitted-level-0);\n",
       "}\n",
       "\n",
       "#sk-container-id-1 div.sk-toggleable__content.fitted {\n",
       "  /* fitted */\n",
       "  background-color: var(--sklearn-color-fitted-level-0);\n",
       "}\n",
       "\n",
       "#sk-container-id-1 div.sk-toggleable__content pre {\n",
       "  margin: 0.2em;\n",
       "  border-radius: 0.25em;\n",
       "  color: var(--sklearn-color-text);\n",
       "  /* unfitted */\n",
       "  background-color: var(--sklearn-color-unfitted-level-0);\n",
       "}\n",
       "\n",
       "#sk-container-id-1 div.sk-toggleable__content.fitted pre {\n",
       "  /* unfitted */\n",
       "  background-color: var(--sklearn-color-fitted-level-0);\n",
       "}\n",
       "\n",
       "#sk-container-id-1 input.sk-toggleable__control:checked~div.sk-toggleable__content {\n",
       "  /* Expand drop-down */\n",
       "  display: block;\n",
       "  width: 100%;\n",
       "  overflow: visible;\n",
       "}\n",
       "\n",
       "#sk-container-id-1 input.sk-toggleable__control:checked~label.sk-toggleable__label-arrow:before {\n",
       "  content: \"▾\";\n",
       "}\n",
       "\n",
       "/* Pipeline/ColumnTransformer-specific style */\n",
       "\n",
       "#sk-container-id-1 div.sk-label input.sk-toggleable__control:checked~label.sk-toggleable__label {\n",
       "  color: var(--sklearn-color-text);\n",
       "  background-color: var(--sklearn-color-unfitted-level-2);\n",
       "}\n",
       "\n",
       "#sk-container-id-1 div.sk-label.fitted input.sk-toggleable__control:checked~label.sk-toggleable__label {\n",
       "  background-color: var(--sklearn-color-fitted-level-2);\n",
       "}\n",
       "\n",
       "/* Estimator-specific style */\n",
       "\n",
       "/* Colorize estimator box */\n",
       "#sk-container-id-1 div.sk-estimator input.sk-toggleable__control:checked~label.sk-toggleable__label {\n",
       "  /* unfitted */\n",
       "  background-color: var(--sklearn-color-unfitted-level-2);\n",
       "}\n",
       "\n",
       "#sk-container-id-1 div.sk-estimator.fitted input.sk-toggleable__control:checked~label.sk-toggleable__label {\n",
       "  /* fitted */\n",
       "  background-color: var(--sklearn-color-fitted-level-2);\n",
       "}\n",
       "\n",
       "#sk-container-id-1 div.sk-label label.sk-toggleable__label,\n",
       "#sk-container-id-1 div.sk-label label {\n",
       "  /* The background is the default theme color */\n",
       "  color: var(--sklearn-color-text-on-default-background);\n",
       "}\n",
       "\n",
       "/* On hover, darken the color of the background */\n",
       "#sk-container-id-1 div.sk-label:hover label.sk-toggleable__label {\n",
       "  color: var(--sklearn-color-text);\n",
       "  background-color: var(--sklearn-color-unfitted-level-2);\n",
       "}\n",
       "\n",
       "/* Label box, darken color on hover, fitted */\n",
       "#sk-container-id-1 div.sk-label.fitted:hover label.sk-toggleable__label.fitted {\n",
       "  color: var(--sklearn-color-text);\n",
       "  background-color: var(--sklearn-color-fitted-level-2);\n",
       "}\n",
       "\n",
       "/* Estimator label */\n",
       "\n",
       "#sk-container-id-1 div.sk-label label {\n",
       "  font-family: monospace;\n",
       "  font-weight: bold;\n",
       "  display: inline-block;\n",
       "  line-height: 1.2em;\n",
       "}\n",
       "\n",
       "#sk-container-id-1 div.sk-label-container {\n",
       "  text-align: center;\n",
       "}\n",
       "\n",
       "/* Estimator-specific */\n",
       "#sk-container-id-1 div.sk-estimator {\n",
       "  font-family: monospace;\n",
       "  border: 1px dotted var(--sklearn-color-border-box);\n",
       "  border-radius: 0.25em;\n",
       "  box-sizing: border-box;\n",
       "  margin-bottom: 0.5em;\n",
       "  /* unfitted */\n",
       "  background-color: var(--sklearn-color-unfitted-level-0);\n",
       "}\n",
       "\n",
       "#sk-container-id-1 div.sk-estimator.fitted {\n",
       "  /* fitted */\n",
       "  background-color: var(--sklearn-color-fitted-level-0);\n",
       "}\n",
       "\n",
       "/* on hover */\n",
       "#sk-container-id-1 div.sk-estimator:hover {\n",
       "  /* unfitted */\n",
       "  background-color: var(--sklearn-color-unfitted-level-2);\n",
       "}\n",
       "\n",
       "#sk-container-id-1 div.sk-estimator.fitted:hover {\n",
       "  /* fitted */\n",
       "  background-color: var(--sklearn-color-fitted-level-2);\n",
       "}\n",
       "\n",
       "/* Specification for estimator info (e.g. \"i\" and \"?\") */\n",
       "\n",
       "/* Common style for \"i\" and \"?\" */\n",
       "\n",
       ".sk-estimator-doc-link,\n",
       "a:link.sk-estimator-doc-link,\n",
       "a:visited.sk-estimator-doc-link {\n",
       "  float: right;\n",
       "  font-size: smaller;\n",
       "  line-height: 1em;\n",
       "  font-family: monospace;\n",
       "  background-color: var(--sklearn-color-background);\n",
       "  border-radius: 1em;\n",
       "  height: 1em;\n",
       "  width: 1em;\n",
       "  text-decoration: none !important;\n",
       "  margin-left: 0.5em;\n",
       "  text-align: center;\n",
       "  /* unfitted */\n",
       "  border: var(--sklearn-color-unfitted-level-1) 1pt solid;\n",
       "  color: var(--sklearn-color-unfitted-level-1);\n",
       "}\n",
       "\n",
       ".sk-estimator-doc-link.fitted,\n",
       "a:link.sk-estimator-doc-link.fitted,\n",
       "a:visited.sk-estimator-doc-link.fitted {\n",
       "  /* fitted */\n",
       "  border: var(--sklearn-color-fitted-level-1) 1pt solid;\n",
       "  color: var(--sklearn-color-fitted-level-1);\n",
       "}\n",
       "\n",
       "/* On hover */\n",
       "div.sk-estimator:hover .sk-estimator-doc-link:hover,\n",
       ".sk-estimator-doc-link:hover,\n",
       "div.sk-label-container:hover .sk-estimator-doc-link:hover,\n",
       ".sk-estimator-doc-link:hover {\n",
       "  /* unfitted */\n",
       "  background-color: var(--sklearn-color-unfitted-level-3);\n",
       "  color: var(--sklearn-color-background);\n",
       "  text-decoration: none;\n",
       "}\n",
       "\n",
       "div.sk-estimator.fitted:hover .sk-estimator-doc-link.fitted:hover,\n",
       ".sk-estimator-doc-link.fitted:hover,\n",
       "div.sk-label-container:hover .sk-estimator-doc-link.fitted:hover,\n",
       ".sk-estimator-doc-link.fitted:hover {\n",
       "  /* fitted */\n",
       "  background-color: var(--sklearn-color-fitted-level-3);\n",
       "  color: var(--sklearn-color-background);\n",
       "  text-decoration: none;\n",
       "}\n",
       "\n",
       "/* Span, style for the box shown on hovering the info icon */\n",
       ".sk-estimator-doc-link span {\n",
       "  display: none;\n",
       "  z-index: 9999;\n",
       "  position: relative;\n",
       "  font-weight: normal;\n",
       "  right: .2ex;\n",
       "  padding: .5ex;\n",
       "  margin: .5ex;\n",
       "  width: min-content;\n",
       "  min-width: 20ex;\n",
       "  max-width: 50ex;\n",
       "  color: var(--sklearn-color-text);\n",
       "  box-shadow: 2pt 2pt 4pt #999;\n",
       "  /* unfitted */\n",
       "  background: var(--sklearn-color-unfitted-level-0);\n",
       "  border: .5pt solid var(--sklearn-color-unfitted-level-3);\n",
       "}\n",
       "\n",
       ".sk-estimator-doc-link.fitted span {\n",
       "  /* fitted */\n",
       "  background: var(--sklearn-color-fitted-level-0);\n",
       "  border: var(--sklearn-color-fitted-level-3);\n",
       "}\n",
       "\n",
       ".sk-estimator-doc-link:hover span {\n",
       "  display: block;\n",
       "}\n",
       "\n",
       "/* \"?\"-specific style due to the `<a>` HTML tag */\n",
       "\n",
       "#sk-container-id-1 a.estimator_doc_link {\n",
       "  float: right;\n",
       "  font-size: 1rem;\n",
       "  line-height: 1em;\n",
       "  font-family: monospace;\n",
       "  background-color: var(--sklearn-color-background);\n",
       "  border-radius: 1rem;\n",
       "  height: 1rem;\n",
       "  width: 1rem;\n",
       "  text-decoration: none;\n",
       "  /* unfitted */\n",
       "  color: var(--sklearn-color-unfitted-level-1);\n",
       "  border: var(--sklearn-color-unfitted-level-1) 1pt solid;\n",
       "}\n",
       "\n",
       "#sk-container-id-1 a.estimator_doc_link.fitted {\n",
       "  /* fitted */\n",
       "  border: var(--sklearn-color-fitted-level-1) 1pt solid;\n",
       "  color: var(--sklearn-color-fitted-level-1);\n",
       "}\n",
       "\n",
       "/* On hover */\n",
       "#sk-container-id-1 a.estimator_doc_link:hover {\n",
       "  /* unfitted */\n",
       "  background-color: var(--sklearn-color-unfitted-level-3);\n",
       "  color: var(--sklearn-color-background);\n",
       "  text-decoration: none;\n",
       "}\n",
       "\n",
       "#sk-container-id-1 a.estimator_doc_link.fitted:hover {\n",
       "  /* fitted */\n",
       "  background-color: var(--sklearn-color-fitted-level-3);\n",
       "}\n",
       "\n",
       ".estimator-table summary {\n",
       "    padding: .5rem;\n",
       "    font-family: monospace;\n",
       "    cursor: pointer;\n",
       "}\n",
       "\n",
       ".estimator-table details[open] {\n",
       "    padding-left: 0.1rem;\n",
       "    padding-right: 0.1rem;\n",
       "    padding-bottom: 0.3rem;\n",
       "}\n",
       "\n",
       ".estimator-table .parameters-table {\n",
       "    margin-left: auto !important;\n",
       "    margin-right: auto !important;\n",
       "}\n",
       "\n",
       ".estimator-table .parameters-table tr:nth-child(odd) {\n",
       "    background-color: #fff;\n",
       "}\n",
       "\n",
       ".estimator-table .parameters-table tr:nth-child(even) {\n",
       "    background-color: #f6f6f6;\n",
       "}\n",
       "\n",
       ".estimator-table .parameters-table tr:hover {\n",
       "    background-color: #e0e0e0;\n",
       "}\n",
       "\n",
       ".estimator-table table td {\n",
       "    border: 1px solid rgba(106, 105, 104, 0.232);\n",
       "}\n",
       "\n",
       ".user-set td {\n",
       "    color:rgb(255, 94, 0);\n",
       "    text-align: left;\n",
       "}\n",
       "\n",
       ".user-set td.value pre {\n",
       "    color:rgb(255, 94, 0) !important;\n",
       "    background-color: transparent !important;\n",
       "}\n",
       "\n",
       ".default td {\n",
       "    color: black;\n",
       "    text-align: left;\n",
       "}\n",
       "\n",
       ".user-set td i,\n",
       ".default td i {\n",
       "    color: black;\n",
       "}\n",
       "\n",
       ".copy-paste-icon {\n",
       "    background-image: url(data:image/svg+xml;base64,PHN2ZyB4bWxucz0iaHR0cDovL3d3dy53My5vcmcvMjAwMC9zdmciIHZpZXdCb3g9IjAgMCA0NDggNTEyIj48IS0tIUZvbnQgQXdlc29tZSBGcmVlIDYuNy4yIGJ5IEBmb250YXdlc29tZSAtIGh0dHBzOi8vZm9udGF3ZXNvbWUuY29tIExpY2Vuc2UgLSBodHRwczovL2ZvbnRhd2Vzb21lLmNvbS9saWNlbnNlL2ZyZWUgQ29weXJpZ2h0IDIwMjUgRm9udGljb25zLCBJbmMuLS0+PHBhdGggZD0iTTIwOCAwTDMzMi4xIDBjMTIuNyAwIDI0LjkgNS4xIDMzLjkgMTQuMWw2Ny45IDY3LjljOSA5IDE0LjEgMjEuMiAxNC4xIDMzLjlMNDQ4IDMzNmMwIDI2LjUtMjEuNSA0OC00OCA0OGwtMTkyIDBjLTI2LjUgMC00OC0yMS41LTQ4LTQ4bDAtMjg4YzAtMjYuNSAyMS41LTQ4IDQ4LTQ4ek00OCAxMjhsODAgMCAwIDY0LTY0IDAgMCAyNTYgMTkyIDAgMC0zMiA2NCAwIDAgNDhjMCAyNi41LTIxLjUgNDgtNDggNDhMNDggNTEyYy0yNi41IDAtNDgtMjEuNS00OC00OEwwIDE3NmMwLTI2LjUgMjEuNS00OCA0OC00OHoiLz48L3N2Zz4=);\n",
       "    background-repeat: no-repeat;\n",
       "    background-size: 14px 14px;\n",
       "    background-position: 0;\n",
       "    display: inline-block;\n",
       "    width: 14px;\n",
       "    height: 14px;\n",
       "    cursor: pointer;\n",
       "}\n",
       "</style><body><div id=\"sk-container-id-1\" class=\"sk-top-container\"><div class=\"sk-text-repr-fallback\"><pre>RandomForestClassifier(n_estimators=200, random_state=42)</pre><b>In a Jupyter environment, please rerun this cell to show the HTML representation or trust the notebook. <br />On GitHub, the HTML representation is unable to render, please try loading this page with nbviewer.org.</b></div><div class=\"sk-container\" hidden><div class=\"sk-item\"><div class=\"sk-estimator fitted sk-toggleable\"><input class=\"sk-toggleable__control sk-hidden--visually\" id=\"sk-estimator-id-1\" type=\"checkbox\" checked><label for=\"sk-estimator-id-1\" class=\"sk-toggleable__label fitted sk-toggleable__label-arrow\"><div><div>RandomForestClassifier</div></div><div><a class=\"sk-estimator-doc-link fitted\" rel=\"noreferrer\" target=\"_blank\" href=\"https://scikit-learn.org/1.7/modules/generated/sklearn.ensemble.RandomForestClassifier.html\">?<span>Documentation for RandomForestClassifier</span></a><span class=\"sk-estimator-doc-link fitted\">i<span>Fitted</span></span></div></label><div class=\"sk-toggleable__content fitted\" data-param-prefix=\"\">\n",
       "        <div class=\"estimator-table\">\n",
       "            <details>\n",
       "                <summary>Parameters</summary>\n",
       "                <table class=\"parameters-table\">\n",
       "                  <tbody>\n",
       "                    \n",
       "        <tr class=\"user-set\">\n",
       "            <td><i class=\"copy-paste-icon\"\n",
       "                 onclick=\"copyToClipboard('n_estimators',\n",
       "                          this.parentElement.nextElementSibling)\"\n",
       "            ></i></td>\n",
       "            <td class=\"param\">n_estimators&nbsp;</td>\n",
       "            <td class=\"value\">200</td>\n",
       "        </tr>\n",
       "    \n",
       "\n",
       "        <tr class=\"default\">\n",
       "            <td><i class=\"copy-paste-icon\"\n",
       "                 onclick=\"copyToClipboard('criterion',\n",
       "                          this.parentElement.nextElementSibling)\"\n",
       "            ></i></td>\n",
       "            <td class=\"param\">criterion&nbsp;</td>\n",
       "            <td class=\"value\">&#x27;gini&#x27;</td>\n",
       "        </tr>\n",
       "    \n",
       "\n",
       "        <tr class=\"default\">\n",
       "            <td><i class=\"copy-paste-icon\"\n",
       "                 onclick=\"copyToClipboard('max_depth',\n",
       "                          this.parentElement.nextElementSibling)\"\n",
       "            ></i></td>\n",
       "            <td class=\"param\">max_depth&nbsp;</td>\n",
       "            <td class=\"value\">None</td>\n",
       "        </tr>\n",
       "    \n",
       "\n",
       "        <tr class=\"default\">\n",
       "            <td><i class=\"copy-paste-icon\"\n",
       "                 onclick=\"copyToClipboard('min_samples_split',\n",
       "                          this.parentElement.nextElementSibling)\"\n",
       "            ></i></td>\n",
       "            <td class=\"param\">min_samples_split&nbsp;</td>\n",
       "            <td class=\"value\">2</td>\n",
       "        </tr>\n",
       "    \n",
       "\n",
       "        <tr class=\"default\">\n",
       "            <td><i class=\"copy-paste-icon\"\n",
       "                 onclick=\"copyToClipboard('min_samples_leaf',\n",
       "                          this.parentElement.nextElementSibling)\"\n",
       "            ></i></td>\n",
       "            <td class=\"param\">min_samples_leaf&nbsp;</td>\n",
       "            <td class=\"value\">1</td>\n",
       "        </tr>\n",
       "    \n",
       "\n",
       "        <tr class=\"default\">\n",
       "            <td><i class=\"copy-paste-icon\"\n",
       "                 onclick=\"copyToClipboard('min_weight_fraction_leaf',\n",
       "                          this.parentElement.nextElementSibling)\"\n",
       "            ></i></td>\n",
       "            <td class=\"param\">min_weight_fraction_leaf&nbsp;</td>\n",
       "            <td class=\"value\">0.0</td>\n",
       "        </tr>\n",
       "    \n",
       "\n",
       "        <tr class=\"default\">\n",
       "            <td><i class=\"copy-paste-icon\"\n",
       "                 onclick=\"copyToClipboard('max_features',\n",
       "                          this.parentElement.nextElementSibling)\"\n",
       "            ></i></td>\n",
       "            <td class=\"param\">max_features&nbsp;</td>\n",
       "            <td class=\"value\">&#x27;sqrt&#x27;</td>\n",
       "        </tr>\n",
       "    \n",
       "\n",
       "        <tr class=\"default\">\n",
       "            <td><i class=\"copy-paste-icon\"\n",
       "                 onclick=\"copyToClipboard('max_leaf_nodes',\n",
       "                          this.parentElement.nextElementSibling)\"\n",
       "            ></i></td>\n",
       "            <td class=\"param\">max_leaf_nodes&nbsp;</td>\n",
       "            <td class=\"value\">None</td>\n",
       "        </tr>\n",
       "    \n",
       "\n",
       "        <tr class=\"default\">\n",
       "            <td><i class=\"copy-paste-icon\"\n",
       "                 onclick=\"copyToClipboard('min_impurity_decrease',\n",
       "                          this.parentElement.nextElementSibling)\"\n",
       "            ></i></td>\n",
       "            <td class=\"param\">min_impurity_decrease&nbsp;</td>\n",
       "            <td class=\"value\">0.0</td>\n",
       "        </tr>\n",
       "    \n",
       "\n",
       "        <tr class=\"default\">\n",
       "            <td><i class=\"copy-paste-icon\"\n",
       "                 onclick=\"copyToClipboard('bootstrap',\n",
       "                          this.parentElement.nextElementSibling)\"\n",
       "            ></i></td>\n",
       "            <td class=\"param\">bootstrap&nbsp;</td>\n",
       "            <td class=\"value\">True</td>\n",
       "        </tr>\n",
       "    \n",
       "\n",
       "        <tr class=\"default\">\n",
       "            <td><i class=\"copy-paste-icon\"\n",
       "                 onclick=\"copyToClipboard('oob_score',\n",
       "                          this.parentElement.nextElementSibling)\"\n",
       "            ></i></td>\n",
       "            <td class=\"param\">oob_score&nbsp;</td>\n",
       "            <td class=\"value\">False</td>\n",
       "        </tr>\n",
       "    \n",
       "\n",
       "        <tr class=\"default\">\n",
       "            <td><i class=\"copy-paste-icon\"\n",
       "                 onclick=\"copyToClipboard('n_jobs',\n",
       "                          this.parentElement.nextElementSibling)\"\n",
       "            ></i></td>\n",
       "            <td class=\"param\">n_jobs&nbsp;</td>\n",
       "            <td class=\"value\">None</td>\n",
       "        </tr>\n",
       "    \n",
       "\n",
       "        <tr class=\"user-set\">\n",
       "            <td><i class=\"copy-paste-icon\"\n",
       "                 onclick=\"copyToClipboard('random_state',\n",
       "                          this.parentElement.nextElementSibling)\"\n",
       "            ></i></td>\n",
       "            <td class=\"param\">random_state&nbsp;</td>\n",
       "            <td class=\"value\">42</td>\n",
       "        </tr>\n",
       "    \n",
       "\n",
       "        <tr class=\"default\">\n",
       "            <td><i class=\"copy-paste-icon\"\n",
       "                 onclick=\"copyToClipboard('verbose',\n",
       "                          this.parentElement.nextElementSibling)\"\n",
       "            ></i></td>\n",
       "            <td class=\"param\">verbose&nbsp;</td>\n",
       "            <td class=\"value\">0</td>\n",
       "        </tr>\n",
       "    \n",
       "\n",
       "        <tr class=\"default\">\n",
       "            <td><i class=\"copy-paste-icon\"\n",
       "                 onclick=\"copyToClipboard('warm_start',\n",
       "                          this.parentElement.nextElementSibling)\"\n",
       "            ></i></td>\n",
       "            <td class=\"param\">warm_start&nbsp;</td>\n",
       "            <td class=\"value\">False</td>\n",
       "        </tr>\n",
       "    \n",
       "\n",
       "        <tr class=\"default\">\n",
       "            <td><i class=\"copy-paste-icon\"\n",
       "                 onclick=\"copyToClipboard('class_weight',\n",
       "                          this.parentElement.nextElementSibling)\"\n",
       "            ></i></td>\n",
       "            <td class=\"param\">class_weight&nbsp;</td>\n",
       "            <td class=\"value\">None</td>\n",
       "        </tr>\n",
       "    \n",
       "\n",
       "        <tr class=\"default\">\n",
       "            <td><i class=\"copy-paste-icon\"\n",
       "                 onclick=\"copyToClipboard('ccp_alpha',\n",
       "                          this.parentElement.nextElementSibling)\"\n",
       "            ></i></td>\n",
       "            <td class=\"param\">ccp_alpha&nbsp;</td>\n",
       "            <td class=\"value\">0.0</td>\n",
       "        </tr>\n",
       "    \n",
       "\n",
       "        <tr class=\"default\">\n",
       "            <td><i class=\"copy-paste-icon\"\n",
       "                 onclick=\"copyToClipboard('max_samples',\n",
       "                          this.parentElement.nextElementSibling)\"\n",
       "            ></i></td>\n",
       "            <td class=\"param\">max_samples&nbsp;</td>\n",
       "            <td class=\"value\">None</td>\n",
       "        </tr>\n",
       "    \n",
       "\n",
       "        <tr class=\"default\">\n",
       "            <td><i class=\"copy-paste-icon\"\n",
       "                 onclick=\"copyToClipboard('monotonic_cst',\n",
       "                          this.parentElement.nextElementSibling)\"\n",
       "            ></i></td>\n",
       "            <td class=\"param\">monotonic_cst&nbsp;</td>\n",
       "            <td class=\"value\">None</td>\n",
       "        </tr>\n",
       "    \n",
       "                  </tbody>\n",
       "                </table>\n",
       "            </details>\n",
       "        </div>\n",
       "    </div></div></div></div></div><script>function copyToClipboard(text, element) {\n",
       "    // Get the parameter prefix from the closest toggleable content\n",
       "    const toggleableContent = element.closest('.sk-toggleable__content');\n",
       "    const paramPrefix = toggleableContent ? toggleableContent.dataset.paramPrefix : '';\n",
       "    const fullParamName = paramPrefix ? `${paramPrefix}${text}` : text;\n",
       "\n",
       "    const originalStyle = element.style;\n",
       "    const computedStyle = window.getComputedStyle(element);\n",
       "    const originalWidth = computedStyle.width;\n",
       "    const originalHTML = element.innerHTML.replace('Copied!', '');\n",
       "\n",
       "    navigator.clipboard.writeText(fullParamName)\n",
       "        .then(() => {\n",
       "            element.style.width = originalWidth;\n",
       "            element.style.color = 'green';\n",
       "            element.innerHTML = \"Copied!\";\n",
       "\n",
       "            setTimeout(() => {\n",
       "                element.innerHTML = originalHTML;\n",
       "                element.style = originalStyle;\n",
       "            }, 2000);\n",
       "        })\n",
       "        .catch(err => {\n",
       "            console.error('Failed to copy:', err);\n",
       "            element.style.color = 'red';\n",
       "            element.innerHTML = \"Failed!\";\n",
       "            setTimeout(() => {\n",
       "                element.innerHTML = originalHTML;\n",
       "                element.style = originalStyle;\n",
       "            }, 2000);\n",
       "        });\n",
       "    return false;\n",
       "}\n",
       "\n",
       "document.querySelectorAll('.fa-regular.fa-copy').forEach(function(element) {\n",
       "    const toggleableContent = element.closest('.sk-toggleable__content');\n",
       "    const paramPrefix = toggleableContent ? toggleableContent.dataset.paramPrefix : '';\n",
       "    const paramName = element.parentElement.nextElementSibling.textContent.trim();\n",
       "    const fullParamName = paramPrefix ? `${paramPrefix}${paramName}` : paramName;\n",
       "\n",
       "    element.setAttribute('title', fullParamName);\n",
       "});\n",
       "</script></body>"
      ],
      "text/plain": [
       "RandomForestClassifier(n_estimators=200, random_state=42)"
      ]
     },
     "execution_count": 17,
     "metadata": {},
     "output_type": "execute_result"
    }
   ],
   "source": [
    "# Initialize the model with 200 tress anda a fixed random state for reproducibility\n",
    "model = RandomForestClassifier(n_estimators=200, random_state=42)\n",
    "\n",
    "# Train the model on the training data\n",
    "model.fit(X_train, y_train)"
   ]
  },
  {
   "cell_type": "code",
   "execution_count": 18,
   "metadata": {},
   "outputs": [],
   "source": [
    "# Predict binary outcomes (0 or 1) on training set\n",
    "train_preds = model.predict(X_train)\n",
    "\n",
    "# predict probalities of being champion\n",
    "train_probs = model.predict_proba(X_train)[:, 1] # Only the prob of class1"
   ]
  },
  {
   "cell_type": "code",
   "execution_count": 19,
   "metadata": {},
   "outputs": [
    {
     "name": "stdout",
     "output_type": "stream",
     "text": [
      "\n",
      "Model Performance on Training Data\n",
      "Accuracy: 1.000\n",
      "ROC AUC: 1.000\n",
      "Log Loss: 0.014\n",
      "\n",
      "Classification Report:\n",
      "              precision    recall  f1-score   support\n",
      "\n",
      "           0       1.00      1.00      1.00       190\n",
      "           1       1.00      1.00      1.00        10\n",
      "\n",
      "    accuracy                           1.00       200\n",
      "   macro avg       1.00      1.00      1.00       200\n",
      "weighted avg       1.00      1.00      1.00       200\n",
      "\n",
      "Confusion Matrix:\n",
      "[[190   0]\n",
      " [  0  10]]\n"
     ]
    }
   ],
   "source": [
    "# Compute accuracy\n",
    "accuracy = accuracy_score(y_train, train_preds)\n",
    "\n",
    "# Compute ROC AUC score\n",
    "roc_auc = roc_auc_score(y_train, train_probs)\n",
    "\n",
    "# Compute log loss (lower is better)\n",
    "log_loss = log_loss(y_train, train_probs)\n",
    "\n",
    "# Print performance metrics\n",
    "print(f\"\\nModel Performance on Training Data\")\n",
    "print(f\"Accuracy: {accuracy:.3f}\")\n",
    "print(f\"ROC AUC: {roc_auc:.3f}\")\n",
    "print(f\"Log Loss: {log_loss:.3f}\")\n",
    "\n",
    "# Print detailed classification performance\n",
    "print(\"\\nClassification Report:\")\n",
    "print(classification_report(y_train, train_preds))\n",
    "\n",
    "# Show confusion matrix (true vs predicted values)\n",
    "print(\"Confusion Matrix:\")\n",
    "print(confusion_matrix(y_train, train_preds))"
   ]
  },
  {
   "cell_type": "markdown",
   "metadata": {},
   "source": [
    "- Precision: Out of all the times the model said \"yes\", how many times was it right?\n",
    "\n",
    "- Recall: Out of all the actual \"yes\" cases, how many did the model catch?\n",
    "\n",
    "- F1-score: A mix of precision and recall in one number.\n",
    "\n",
    "- Support: The number of actual cases for each class (label) in your data.\n",
    "\n",
    "- Confusion Matrix: A table that shows what the model got right and wrong"
   ]
  },
  {
   "cell_type": "code",
   "execution_count": 20,
   "metadata": {},
   "outputs": [],
   "source": [
    "# predict probability of becoming champion\n",
    "df_test[\"win_probability\"] = model.predict_proba(x_test)[:, 1]\n",
    "\n",
    "# Nomalize the probabilities so that all teams add up to 100%\n",
    "df_test[\"win_probability (%)\"] = df_test[\"win_probability\"] / df_test[\"win_probability\"].sum() * 100\n",
    "\n",
    "# Round the values for better readability\n",
    "df_test[\"win_probability (%)\"] = df_test[\"win_probability (%)\"].round(3) \n"
   ]
  },
  {
   "cell_type": "code",
   "execution_count": 21,
   "metadata": {},
   "outputs": [
    {
     "name": "stdout",
     "output_type": "stream",
     "text": [
      "\n",
      "Championship Win Probabilities (2024):\n"
     ]
    },
    {
     "data": {
      "text/html": [
       "<div>\n",
       "<style scoped>\n",
       "    .dataframe tbody tr th:only-of-type {\n",
       "        vertical-align: middle;\n",
       "    }\n",
       "\n",
       "    .dataframe tbody tr th {\n",
       "        vertical-align: top;\n",
       "    }\n",
       "\n",
       "    .dataframe thead th {\n",
       "        text-align: right;\n",
       "    }\n",
       "</style>\n",
       "<table border=\"1\" class=\"dataframe\">\n",
       "  <thead>\n",
       "    <tr style=\"text-align: right;\">\n",
       "      <th></th>\n",
       "      <th>squad</th>\n",
       "      <th>pts</th>\n",
       "      <th>projected_pts</th>\n",
       "      <th>pts/mp</th>\n",
       "      <th>gd</th>\n",
       "      <th>games_left</th>\n",
       "      <th>win_probability (%)</th>\n",
       "    </tr>\n",
       "  </thead>\n",
       "  <tbody>\n",
       "    <tr>\n",
       "      <th>200</th>\n",
       "      <td>Barcelona</td>\n",
       "      <td>88</td>\n",
       "      <td>88.0</td>\n",
       "      <td>2.32</td>\n",
       "      <td>63</td>\n",
       "      <td>0</td>\n",
       "      <td>86.164</td>\n",
       "    </tr>\n",
       "    <tr>\n",
       "      <th>201</th>\n",
       "      <td>Real Madrid</td>\n",
       "      <td>84</td>\n",
       "      <td>84.0</td>\n",
       "      <td>2.21</td>\n",
       "      <td>40</td>\n",
       "      <td>0</td>\n",
       "      <td>13.836</td>\n",
       "    </tr>\n",
       "    <tr>\n",
       "      <th>202</th>\n",
       "      <td>Atlético Madrid</td>\n",
       "      <td>76</td>\n",
       "      <td>76.0</td>\n",
       "      <td>2.00</td>\n",
       "      <td>38</td>\n",
       "      <td>0</td>\n",
       "      <td>0.000</td>\n",
       "    </tr>\n",
       "    <tr>\n",
       "      <th>203</th>\n",
       "      <td>Athletic Club</td>\n",
       "      <td>70</td>\n",
       "      <td>70.0</td>\n",
       "      <td>1.84</td>\n",
       "      <td>25</td>\n",
       "      <td>0</td>\n",
       "      <td>0.000</td>\n",
       "    </tr>\n",
       "    <tr>\n",
       "      <th>204</th>\n",
       "      <td>Villarreal</td>\n",
       "      <td>70</td>\n",
       "      <td>70.0</td>\n",
       "      <td>1.84</td>\n",
       "      <td>20</td>\n",
       "      <td>0</td>\n",
       "      <td>0.000</td>\n",
       "    </tr>\n",
       "    <tr>\n",
       "      <th>205</th>\n",
       "      <td>Betis</td>\n",
       "      <td>60</td>\n",
       "      <td>60.0</td>\n",
       "      <td>1.58</td>\n",
       "      <td>7</td>\n",
       "      <td>0</td>\n",
       "      <td>0.000</td>\n",
       "    </tr>\n",
       "    <tr>\n",
       "      <th>206</th>\n",
       "      <td>Celta Vigo</td>\n",
       "      <td>55</td>\n",
       "      <td>55.0</td>\n",
       "      <td>1.45</td>\n",
       "      <td>2</td>\n",
       "      <td>0</td>\n",
       "      <td>0.000</td>\n",
       "    </tr>\n",
       "    <tr>\n",
       "      <th>207</th>\n",
       "      <td>Rayo Vallecano</td>\n",
       "      <td>52</td>\n",
       "      <td>52.0</td>\n",
       "      <td>1.37</td>\n",
       "      <td>-4</td>\n",
       "      <td>0</td>\n",
       "      <td>0.000</td>\n",
       "    </tr>\n",
       "    <tr>\n",
       "      <th>208</th>\n",
       "      <td>Osasuna</td>\n",
       "      <td>52</td>\n",
       "      <td>52.0</td>\n",
       "      <td>1.37</td>\n",
       "      <td>-4</td>\n",
       "      <td>0</td>\n",
       "      <td>0.000</td>\n",
       "    </tr>\n",
       "    <tr>\n",
       "      <th>209</th>\n",
       "      <td>Mallorca</td>\n",
       "      <td>48</td>\n",
       "      <td>48.0</td>\n",
       "      <td>1.26</td>\n",
       "      <td>-9</td>\n",
       "      <td>0</td>\n",
       "      <td>0.000</td>\n",
       "    </tr>\n",
       "    <tr>\n",
       "      <th>211</th>\n",
       "      <td>Valencia</td>\n",
       "      <td>46</td>\n",
       "      <td>46.0</td>\n",
       "      <td>1.21</td>\n",
       "      <td>-10</td>\n",
       "      <td>0</td>\n",
       "      <td>0.000</td>\n",
       "    </tr>\n",
       "    <tr>\n",
       "      <th>210</th>\n",
       "      <td>Real Sociedad</td>\n",
       "      <td>46</td>\n",
       "      <td>46.0</td>\n",
       "      <td>1.21</td>\n",
       "      <td>-11</td>\n",
       "      <td>0</td>\n",
       "      <td>0.000</td>\n",
       "    </tr>\n",
       "    <tr>\n",
       "      <th>212</th>\n",
       "      <td>Getafe</td>\n",
       "      <td>42</td>\n",
       "      <td>42.0</td>\n",
       "      <td>1.11</td>\n",
       "      <td>-5</td>\n",
       "      <td>0</td>\n",
       "      <td>0.000</td>\n",
       "    </tr>\n",
       "    <tr>\n",
       "      <th>213</th>\n",
       "      <td>Espanyol</td>\n",
       "      <td>42</td>\n",
       "      <td>42.0</td>\n",
       "      <td>1.11</td>\n",
       "      <td>-11</td>\n",
       "      <td>0</td>\n",
       "      <td>0.000</td>\n",
       "    </tr>\n",
       "    <tr>\n",
       "      <th>214</th>\n",
       "      <td>Alavés</td>\n",
       "      <td>42</td>\n",
       "      <td>42.0</td>\n",
       "      <td>1.11</td>\n",
       "      <td>-10</td>\n",
       "      <td>0</td>\n",
       "      <td>0.000</td>\n",
       "    </tr>\n",
       "    <tr>\n",
       "      <th>215</th>\n",
       "      <td>Girona</td>\n",
       "      <td>41</td>\n",
       "      <td>41.0</td>\n",
       "      <td>1.08</td>\n",
       "      <td>-16</td>\n",
       "      <td>0</td>\n",
       "      <td>0.000</td>\n",
       "    </tr>\n",
       "    <tr>\n",
       "      <th>216</th>\n",
       "      <td>Sevilla</td>\n",
       "      <td>41</td>\n",
       "      <td>41.0</td>\n",
       "      <td>1.08</td>\n",
       "      <td>-13</td>\n",
       "      <td>0</td>\n",
       "      <td>0.000</td>\n",
       "    </tr>\n",
       "    <tr>\n",
       "      <th>217</th>\n",
       "      <td>Leganés</td>\n",
       "      <td>40</td>\n",
       "      <td>40.0</td>\n",
       "      <td>1.05</td>\n",
       "      <td>-17</td>\n",
       "      <td>0</td>\n",
       "      <td>0.000</td>\n",
       "    </tr>\n",
       "    <tr>\n",
       "      <th>218</th>\n",
       "      <td>Las Palmas</td>\n",
       "      <td>32</td>\n",
       "      <td>32.0</td>\n",
       "      <td>0.84</td>\n",
       "      <td>-21</td>\n",
       "      <td>0</td>\n",
       "      <td>0.000</td>\n",
       "    </tr>\n",
       "    <tr>\n",
       "      <th>219</th>\n",
       "      <td>Valladolid</td>\n",
       "      <td>16</td>\n",
       "      <td>16.0</td>\n",
       "      <td>0.42</td>\n",
       "      <td>-64</td>\n",
       "      <td>0</td>\n",
       "      <td>0.000</td>\n",
       "    </tr>\n",
       "  </tbody>\n",
       "</table>\n",
       "</div>"
      ],
      "text/plain": [
       "               squad  pts  projected_pts  pts/mp  gd  games_left  \\\n",
       "200        Barcelona   88           88.0    2.32  63           0   \n",
       "201      Real Madrid   84           84.0    2.21  40           0   \n",
       "202  Atlético Madrid   76           76.0    2.00  38           0   \n",
       "203    Athletic Club   70           70.0    1.84  25           0   \n",
       "204       Villarreal   70           70.0    1.84  20           0   \n",
       "205            Betis   60           60.0    1.58   7           0   \n",
       "206       Celta Vigo   55           55.0    1.45   2           0   \n",
       "207   Rayo Vallecano   52           52.0    1.37  -4           0   \n",
       "208          Osasuna   52           52.0    1.37  -4           0   \n",
       "209         Mallorca   48           48.0    1.26  -9           0   \n",
       "211         Valencia   46           46.0    1.21 -10           0   \n",
       "210    Real Sociedad   46           46.0    1.21 -11           0   \n",
       "212           Getafe   42           42.0    1.11  -5           0   \n",
       "213         Espanyol   42           42.0    1.11 -11           0   \n",
       "214           Alavés   42           42.0    1.11 -10           0   \n",
       "215           Girona   41           41.0    1.08 -16           0   \n",
       "216          Sevilla   41           41.0    1.08 -13           0   \n",
       "217          Leganés   40           40.0    1.05 -17           0   \n",
       "218       Las Palmas   32           32.0    0.84 -21           0   \n",
       "219       Valladolid   16           16.0    0.42 -64           0   \n",
       "\n",
       "     win_probability (%)  \n",
       "200               86.164  \n",
       "201               13.836  \n",
       "202                0.000  \n",
       "203                0.000  \n",
       "204                0.000  \n",
       "205                0.000  \n",
       "206                0.000  \n",
       "207                0.000  \n",
       "208                0.000  \n",
       "209                0.000  \n",
       "211                0.000  \n",
       "210                0.000  \n",
       "212                0.000  \n",
       "213                0.000  \n",
       "214                0.000  \n",
       "215                0.000  \n",
       "216                0.000  \n",
       "217                0.000  \n",
       "218                0.000  \n",
       "219                0.000  "
      ]
     },
     "execution_count": 21,
     "metadata": {},
     "output_type": "execute_result"
    }
   ],
   "source": [
    "# Sort the test DataFrame by win probability descending\n",
    "df_test = df_test.sort_values(\"projected_pts\", ascending=False)\n",
    "print(\"\\nChampionship Win Probabilities (2024):\")\n",
    "df_test[[\"squad\", \"pts\", \"projected_pts\", \"pts/mp\", \"gd\", \"games_left\", \"win_probability (%)\"]]"
   ]
  },
  {
   "cell_type": "code",
   "execution_count": 22,
   "metadata": {},
   "outputs": [
    {
     "data": {
      "application/vnd.plotly.v1+json": {
       "config": {
        "plotlyServerURL": "https://plot.ly"
       },
       "data": [
        {
         "hovertemplate": "Team=%{x}<br>Win Probability (%)=%{y}<extra></extra>",
         "legendgroup": "",
         "marker": {
          "color": "#1f77b4",
          "pattern": {
           "shape": ""
          }
         },
         "name": "",
         "orientation": "v",
         "showlegend": false,
         "textposition": "auto",
         "type": "bar",
         "x": [
          "Barcelona",
          "Real Madrid",
          "Atlético Madrid",
          "Athletic Club",
          "Villarreal",
          "Betis",
          "Celta Vigo",
          "Rayo Vallecano",
          "Osasuna",
          "Mallorca",
          "Real Sociedad",
          "Valencia",
          "Getafe",
          "Espanyol",
          "Alavés",
          "Girona",
          "Sevilla",
          "Leganés",
          "Las Palmas",
          "Valladolid"
         ],
         "xaxis": "x",
         "y": {
          "bdata": "0SLb+X6KVUB56SYxCKwrQAAAAAAAAAAAAAAAAAAAAAAAAAAAAAAAAAAAAAAAAAAAAAAAAAAAAAAAAAAAAAAAAAAAAAAAAAAAAAAAAAAAAAAAAAAAAAAAAAAAAAAAAAAAAAAAAAAAAAAAAAAAAAAAAAAAAAAAAAAAAAAAAAAAAAAAAAAAAAAAAAAAAAAAAAAAAAAAAAAAAAAAAAAAAAAAAA==",
          "dtype": "f8"
         },
         "yaxis": "y"
        }
       ],
       "layout": {
        "bargap": 0.3,
        "barmode": "relative",
        "legend": {
         "tracegroupgap": 0
        },
        "template": {
         "data": {
          "bar": [
           {
            "error_x": {
             "color": "#2a3f5f"
            },
            "error_y": {
             "color": "#2a3f5f"
            },
            "marker": {
             "line": {
              "color": "white",
              "width": 0.5
             },
             "pattern": {
              "fillmode": "overlay",
              "size": 10,
              "solidity": 0.2
             }
            },
            "type": "bar"
           }
          ],
          "barpolar": [
           {
            "marker": {
             "line": {
              "color": "white",
              "width": 0.5
             },
             "pattern": {
              "fillmode": "overlay",
              "size": 10,
              "solidity": 0.2
             }
            },
            "type": "barpolar"
           }
          ],
          "carpet": [
           {
            "aaxis": {
             "endlinecolor": "#2a3f5f",
             "gridcolor": "#C8D4E3",
             "linecolor": "#C8D4E3",
             "minorgridcolor": "#C8D4E3",
             "startlinecolor": "#2a3f5f"
            },
            "baxis": {
             "endlinecolor": "#2a3f5f",
             "gridcolor": "#C8D4E3",
             "linecolor": "#C8D4E3",
             "minorgridcolor": "#C8D4E3",
             "startlinecolor": "#2a3f5f"
            },
            "type": "carpet"
           }
          ],
          "choropleth": [
           {
            "colorbar": {
             "outlinewidth": 0,
             "ticks": ""
            },
            "type": "choropleth"
           }
          ],
          "contour": [
           {
            "colorbar": {
             "outlinewidth": 0,
             "ticks": ""
            },
            "colorscale": [
             [
              0,
              "#0d0887"
             ],
             [
              0.1111111111111111,
              "#46039f"
             ],
             [
              0.2222222222222222,
              "#7201a8"
             ],
             [
              0.3333333333333333,
              "#9c179e"
             ],
             [
              0.4444444444444444,
              "#bd3786"
             ],
             [
              0.5555555555555556,
              "#d8576b"
             ],
             [
              0.6666666666666666,
              "#ed7953"
             ],
             [
              0.7777777777777778,
              "#fb9f3a"
             ],
             [
              0.8888888888888888,
              "#fdca26"
             ],
             [
              1,
              "#f0f921"
             ]
            ],
            "type": "contour"
           }
          ],
          "contourcarpet": [
           {
            "colorbar": {
             "outlinewidth": 0,
             "ticks": ""
            },
            "type": "contourcarpet"
           }
          ],
          "heatmap": [
           {
            "colorbar": {
             "outlinewidth": 0,
             "ticks": ""
            },
            "colorscale": [
             [
              0,
              "#0d0887"
             ],
             [
              0.1111111111111111,
              "#46039f"
             ],
             [
              0.2222222222222222,
              "#7201a8"
             ],
             [
              0.3333333333333333,
              "#9c179e"
             ],
             [
              0.4444444444444444,
              "#bd3786"
             ],
             [
              0.5555555555555556,
              "#d8576b"
             ],
             [
              0.6666666666666666,
              "#ed7953"
             ],
             [
              0.7777777777777778,
              "#fb9f3a"
             ],
             [
              0.8888888888888888,
              "#fdca26"
             ],
             [
              1,
              "#f0f921"
             ]
            ],
            "type": "heatmap"
           }
          ],
          "histogram": [
           {
            "marker": {
             "pattern": {
              "fillmode": "overlay",
              "size": 10,
              "solidity": 0.2
             }
            },
            "type": "histogram"
           }
          ],
          "histogram2d": [
           {
            "colorbar": {
             "outlinewidth": 0,
             "ticks": ""
            },
            "colorscale": [
             [
              0,
              "#0d0887"
             ],
             [
              0.1111111111111111,
              "#46039f"
             ],
             [
              0.2222222222222222,
              "#7201a8"
             ],
             [
              0.3333333333333333,
              "#9c179e"
             ],
             [
              0.4444444444444444,
              "#bd3786"
             ],
             [
              0.5555555555555556,
              "#d8576b"
             ],
             [
              0.6666666666666666,
              "#ed7953"
             ],
             [
              0.7777777777777778,
              "#fb9f3a"
             ],
             [
              0.8888888888888888,
              "#fdca26"
             ],
             [
              1,
              "#f0f921"
             ]
            ],
            "type": "histogram2d"
           }
          ],
          "histogram2dcontour": [
           {
            "colorbar": {
             "outlinewidth": 0,
             "ticks": ""
            },
            "colorscale": [
             [
              0,
              "#0d0887"
             ],
             [
              0.1111111111111111,
              "#46039f"
             ],
             [
              0.2222222222222222,
              "#7201a8"
             ],
             [
              0.3333333333333333,
              "#9c179e"
             ],
             [
              0.4444444444444444,
              "#bd3786"
             ],
             [
              0.5555555555555556,
              "#d8576b"
             ],
             [
              0.6666666666666666,
              "#ed7953"
             ],
             [
              0.7777777777777778,
              "#fb9f3a"
             ],
             [
              0.8888888888888888,
              "#fdca26"
             ],
             [
              1,
              "#f0f921"
             ]
            ],
            "type": "histogram2dcontour"
           }
          ],
          "mesh3d": [
           {
            "colorbar": {
             "outlinewidth": 0,
             "ticks": ""
            },
            "type": "mesh3d"
           }
          ],
          "parcoords": [
           {
            "line": {
             "colorbar": {
              "outlinewidth": 0,
              "ticks": ""
             }
            },
            "type": "parcoords"
           }
          ],
          "pie": [
           {
            "automargin": true,
            "type": "pie"
           }
          ],
          "scatter": [
           {
            "fillpattern": {
             "fillmode": "overlay",
             "size": 10,
             "solidity": 0.2
            },
            "type": "scatter"
           }
          ],
          "scatter3d": [
           {
            "line": {
             "colorbar": {
              "outlinewidth": 0,
              "ticks": ""
             }
            },
            "marker": {
             "colorbar": {
              "outlinewidth": 0,
              "ticks": ""
             }
            },
            "type": "scatter3d"
           }
          ],
          "scattercarpet": [
           {
            "marker": {
             "colorbar": {
              "outlinewidth": 0,
              "ticks": ""
             }
            },
            "type": "scattercarpet"
           }
          ],
          "scattergeo": [
           {
            "marker": {
             "colorbar": {
              "outlinewidth": 0,
              "ticks": ""
             }
            },
            "type": "scattergeo"
           }
          ],
          "scattergl": [
           {
            "marker": {
             "colorbar": {
              "outlinewidth": 0,
              "ticks": ""
             }
            },
            "type": "scattergl"
           }
          ],
          "scattermap": [
           {
            "marker": {
             "colorbar": {
              "outlinewidth": 0,
              "ticks": ""
             }
            },
            "type": "scattermap"
           }
          ],
          "scattermapbox": [
           {
            "marker": {
             "colorbar": {
              "outlinewidth": 0,
              "ticks": ""
             }
            },
            "type": "scattermapbox"
           }
          ],
          "scatterpolar": [
           {
            "marker": {
             "colorbar": {
              "outlinewidth": 0,
              "ticks": ""
             }
            },
            "type": "scatterpolar"
           }
          ],
          "scatterpolargl": [
           {
            "marker": {
             "colorbar": {
              "outlinewidth": 0,
              "ticks": ""
             }
            },
            "type": "scatterpolargl"
           }
          ],
          "scatterternary": [
           {
            "marker": {
             "colorbar": {
              "outlinewidth": 0,
              "ticks": ""
             }
            },
            "type": "scatterternary"
           }
          ],
          "surface": [
           {
            "colorbar": {
             "outlinewidth": 0,
             "ticks": ""
            },
            "colorscale": [
             [
              0,
              "#0d0887"
             ],
             [
              0.1111111111111111,
              "#46039f"
             ],
             [
              0.2222222222222222,
              "#7201a8"
             ],
             [
              0.3333333333333333,
              "#9c179e"
             ],
             [
              0.4444444444444444,
              "#bd3786"
             ],
             [
              0.5555555555555556,
              "#d8576b"
             ],
             [
              0.6666666666666666,
              "#ed7953"
             ],
             [
              0.7777777777777778,
              "#fb9f3a"
             ],
             [
              0.8888888888888888,
              "#fdca26"
             ],
             [
              1,
              "#f0f921"
             ]
            ],
            "type": "surface"
           }
          ],
          "table": [
           {
            "cells": {
             "fill": {
              "color": "#EBF0F8"
             },
             "line": {
              "color": "white"
             }
            },
            "header": {
             "fill": {
              "color": "#C8D4E3"
             },
             "line": {
              "color": "white"
             }
            },
            "type": "table"
           }
          ]
         },
         "layout": {
          "annotationdefaults": {
           "arrowcolor": "#2a3f5f",
           "arrowhead": 0,
           "arrowwidth": 1
          },
          "autotypenumbers": "strict",
          "coloraxis": {
           "colorbar": {
            "outlinewidth": 0,
            "ticks": ""
           }
          },
          "colorscale": {
           "diverging": [
            [
             0,
             "#8e0152"
            ],
            [
             0.1,
             "#c51b7d"
            ],
            [
             0.2,
             "#de77ae"
            ],
            [
             0.3,
             "#f1b6da"
            ],
            [
             0.4,
             "#fde0ef"
            ],
            [
             0.5,
             "#f7f7f7"
            ],
            [
             0.6,
             "#e6f5d0"
            ],
            [
             0.7,
             "#b8e186"
            ],
            [
             0.8,
             "#7fbc41"
            ],
            [
             0.9,
             "#4d9221"
            ],
            [
             1,
             "#276419"
            ]
           ],
           "sequential": [
            [
             0,
             "#0d0887"
            ],
            [
             0.1111111111111111,
             "#46039f"
            ],
            [
             0.2222222222222222,
             "#7201a8"
            ],
            [
             0.3333333333333333,
             "#9c179e"
            ],
            [
             0.4444444444444444,
             "#bd3786"
            ],
            [
             0.5555555555555556,
             "#d8576b"
            ],
            [
             0.6666666666666666,
             "#ed7953"
            ],
            [
             0.7777777777777778,
             "#fb9f3a"
            ],
            [
             0.8888888888888888,
             "#fdca26"
            ],
            [
             1,
             "#f0f921"
            ]
           ],
           "sequentialminus": [
            [
             0,
             "#0d0887"
            ],
            [
             0.1111111111111111,
             "#46039f"
            ],
            [
             0.2222222222222222,
             "#7201a8"
            ],
            [
             0.3333333333333333,
             "#9c179e"
            ],
            [
             0.4444444444444444,
             "#bd3786"
            ],
            [
             0.5555555555555556,
             "#d8576b"
            ],
            [
             0.6666666666666666,
             "#ed7953"
            ],
            [
             0.7777777777777778,
             "#fb9f3a"
            ],
            [
             0.8888888888888888,
             "#fdca26"
            ],
            [
             1,
             "#f0f921"
            ]
           ]
          },
          "colorway": [
           "#636efa",
           "#EF553B",
           "#00cc96",
           "#ab63fa",
           "#FFA15A",
           "#19d3f3",
           "#FF6692",
           "#B6E880",
           "#FF97FF",
           "#FECB52"
          ],
          "font": {
           "color": "#2a3f5f"
          },
          "geo": {
           "bgcolor": "white",
           "lakecolor": "white",
           "landcolor": "white",
           "showlakes": true,
           "showland": true,
           "subunitcolor": "#C8D4E3"
          },
          "hoverlabel": {
           "align": "left"
          },
          "hovermode": "closest",
          "mapbox": {
           "style": "light"
          },
          "paper_bgcolor": "white",
          "plot_bgcolor": "white",
          "polar": {
           "angularaxis": {
            "gridcolor": "#EBF0F8",
            "linecolor": "#EBF0F8",
            "ticks": ""
           },
           "bgcolor": "white",
           "radialaxis": {
            "gridcolor": "#EBF0F8",
            "linecolor": "#EBF0F8",
            "ticks": ""
           }
          },
          "scene": {
           "xaxis": {
            "backgroundcolor": "white",
            "gridcolor": "#DFE8F3",
            "gridwidth": 2,
            "linecolor": "#EBF0F8",
            "showbackground": true,
            "ticks": "",
            "zerolinecolor": "#EBF0F8"
           },
           "yaxis": {
            "backgroundcolor": "white",
            "gridcolor": "#DFE8F3",
            "gridwidth": 2,
            "linecolor": "#EBF0F8",
            "showbackground": true,
            "ticks": "",
            "zerolinecolor": "#EBF0F8"
           },
           "zaxis": {
            "backgroundcolor": "white",
            "gridcolor": "#DFE8F3",
            "gridwidth": 2,
            "linecolor": "#EBF0F8",
            "showbackground": true,
            "ticks": "",
            "zerolinecolor": "#EBF0F8"
           }
          },
          "shapedefaults": {
           "line": {
            "color": "#2a3f5f"
           }
          },
          "ternary": {
           "aaxis": {
            "gridcolor": "#DFE8F3",
            "linecolor": "#A2B1C6",
            "ticks": ""
           },
           "baxis": {
            "gridcolor": "#DFE8F3",
            "linecolor": "#A2B1C6",
            "ticks": ""
           },
           "bgcolor": "white",
           "caxis": {
            "gridcolor": "#DFE8F3",
            "linecolor": "#A2B1C6",
            "ticks": ""
           }
          },
          "title": {
           "x": 0.05
          },
          "xaxis": {
           "automargin": true,
           "gridcolor": "#EBF0F8",
           "linecolor": "#EBF0F8",
           "ticks": "",
           "title": {
            "standoff": 15
           },
           "zerolinecolor": "#EBF0F8",
           "zerolinewidth": 2
          },
          "yaxis": {
           "automargin": true,
           "gridcolor": "#EBF0F8",
           "linecolor": "#EBF0F8",
           "ticks": "",
           "title": {
            "standoff": 15
           },
           "zerolinecolor": "#EBF0F8",
           "zerolinewidth": 2
          }
         }
        },
        "title": {
         "text": "Championship Win Probabilities (2024 Season)",
         "x": 0.5
        },
        "xaxis": {
         "anchor": "y",
         "domain": [
          0,
          1
         ],
         "tickangle": -45,
         "title": {
          "text": "Team"
         }
        },
        "yaxis": {
         "anchor": "x",
         "domain": [
          0,
          1
         ],
         "title": {
          "text": "Win Probability (%)"
         }
        }
       }
      }
     },
     "metadata": {},
     "output_type": "display_data"
    }
   ],
   "source": [
    "import plotly.express as px\n",
    "\n",
    "# Sort by projected_pts (descending)\n",
    "df_test_sorted = df_test.sort_values(\"projected_pts\", ascending=False)\n",
    "\n",
    "# Plot bar chart\n",
    "fig = px.bar(\n",
    "    df_test_sorted,\n",
    "    x=\"squad\",\n",
    "    y=\"win_probability (%)\",\n",
    "    color_discrete_sequence=[\"#1f77b4\"],\n",
    "    title=\"Championship Win Probabilities (2024 Season)\",\n",
    "    labels={\"squad\": \"Team\", \"win_probability (%)\": \"Win Probability (%)\"},\n",
    "    template=\"plotly_white\"\n",
    ")\n",
    "\n",
    "# Improve layout\n",
    "fig.update_layout(\n",
    "    xaxis_title=\"Team\",\n",
    "    yaxis_title=\"Win Probability (%)\",\n",
    "    xaxis_tickangle=-45,\n",
    "    bargap=0.3,\n",
    "    title_x=0.5\n",
    ")\n",
    "\n",
    "fig.show()\n"
   ]
  },
  {
   "cell_type": "markdown",
   "metadata": {},
   "source": [
    "- Based on our analysis Barcelona has 86.2% chances of being the champion of Spain followed by Real Madrid 13.8%, ATM 8%,\n",
    "- The 7th position for the conference league is most like gonna be Celta Vigo (based on Projected points)\n",
    "- The relegated teams will most likely be 'Valladolid' and 'Las Palmas'"
   ]
  }
 ],
 "metadata": {
  "kernelspec": {
   "display_name": "ds_study",
   "language": "python",
   "name": "python3"
  },
  "language_info": {
   "codemirror_mode": {
    "name": "ipython",
    "version": 3
   },
   "file_extension": ".py",
   "mimetype": "text/x-python",
   "name": "python",
   "nbconvert_exporter": "python",
   "pygments_lexer": "ipython3",
   "version": "3.10.18"
  }
 },
 "nbformat": 4,
 "nbformat_minor": 2
}
